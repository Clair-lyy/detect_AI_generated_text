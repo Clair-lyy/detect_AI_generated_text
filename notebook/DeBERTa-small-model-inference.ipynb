{
 "cells": [
  {
   "cell_type": "code",
   "execution_count": 1,
   "id": "acf23d1b",
   "metadata": {
    "_cell_guid": "b1076dfc-b9ad-4769-8c92-a6c4dae69d19",
    "_uuid": "8f2839f25d086af736a60e9eeb907d3b93b6e0e5",
    "execution": {
     "iopub.execute_input": "2024-09-25T07:38:39.307217Z",
     "iopub.status.busy": "2024-09-25T07:38:39.306785Z",
     "iopub.status.idle": "2024-09-25T07:38:45.498863Z",
     "shell.execute_reply": "2024-09-25T07:38:45.497629Z"
    },
    "papermill": {
     "duration": 6.202088,
     "end_time": "2024-09-25T07:38:45.502349",
     "exception": false,
     "start_time": "2024-09-25T07:38:39.300261",
     "status": "completed"
    },
    "tags": []
   },
   "outputs": [],
   "source": [
    "import pandas as pd\n",
    "import torch\n",
    "from torch import nn\n",
    "import torch.nn.functional as F\n",
    "from torch.utils.data import Dataset,DataLoader\n",
    "from transformers import AutoModel, AutoTokenizer"
   ]
  },
  {
   "cell_type": "code",
   "execution_count": 2,
   "id": "7f2d1936",
   "metadata": {
    "execution": {
     "iopub.execute_input": "2024-09-25T07:38:45.516933Z",
     "iopub.status.busy": "2024-09-25T07:38:45.516159Z",
     "iopub.status.idle": "2024-09-25T07:38:45.547802Z",
     "shell.execute_reply": "2024-09-25T07:38:45.546468Z"
    },
    "papermill": {
     "duration": 0.043585,
     "end_time": "2024-09-25T07:38:45.552037",
     "exception": false,
     "start_time": "2024-09-25T07:38:45.508452",
     "status": "completed"
    },
    "tags": []
   },
   "outputs": [],
   "source": [
    "input_path = '/kaggle/input/llm-detect-ai-generated-text'\n",
    "test_data = pd.read_csv(f'{input_path}/test_essays.csv')\n",
    "submission = pd.read_csv(f'{input_path}/sample_submission.csv')"
   ]
  },
  {
   "cell_type": "code",
   "execution_count": 3,
   "id": "a5874de8",
   "metadata": {
    "execution": {
     "iopub.execute_input": "2024-09-25T07:38:45.564347Z",
     "iopub.status.busy": "2024-09-25T07:38:45.563790Z",
     "iopub.status.idle": "2024-09-25T07:38:45.580176Z",
     "shell.execute_reply": "2024-09-25T07:38:45.578859Z"
    },
    "papermill": {
     "duration": 0.026161,
     "end_time": "2024-09-25T07:38:45.582772",
     "exception": false,
     "start_time": "2024-09-25T07:38:45.556611",
     "status": "completed"
    },
    "tags": []
   },
   "outputs": [],
   "source": [
    "class MeanPooling(nn.Module):\n",
    "    def __init__(self):\n",
    "        super(MeanPooling, self).__init__()\n",
    "\n",
    "    def forward(self, last_hidden_state, attention_mask):\n",
    "        input_mask_expanded = attention_mask.unsqueeze(-1).expand(last_hidden_state.size()).float()\n",
    "        sum_embeddings = torch.sum(last_hidden_state * input_mask_expanded, 1)\n",
    "        sum_mask = input_mask_expanded.sum(1)\n",
    "        sum_mask = torch.clamp(sum_mask, min=1e-9)\n",
    "        mean_embeddings = sum_embeddings / sum_mask\n",
    "        return mean_embeddings\n",
    "\n",
    "class ClassifierModel(nn.Module):\n",
    "    def __init__(self, checkpoint):\n",
    "        super(ClassifierModel, self).__init__()\n",
    "        self.bert_model = AutoModel.from_pretrained(checkpoint)\n",
    "        self.dropout = nn.Dropout(0.1)\n",
    "        self.classifier = nn.Linear(768, 1)\n",
    "        self.pool = MeanPooling()\n",
    "        \n",
    "    def encode(self, input_ids, attention_mask, token_type_ids):\n",
    "        outputs = self.bert_model(\n",
    "            input_ids,\n",
    "            attention_mask=attention_mask,\n",
    "            token_type_ids=token_type_ids,\n",
    "            output_hidden_states=False\n",
    "        )\n",
    "\n",
    "        encoder_layer = outputs.last_hidden_state\n",
    "        embeddings = self.pool(encoder_layer, attention_mask)\n",
    "\n",
    "        return embeddings\n",
    "        \n",
    "    def forward(self, x):\n",
    "        bert_output = self.encode(**x)\n",
    "        x = self.dropout(bert_output)\n",
    "        x = self.classifier(x)\n",
    "        return x"
   ]
  },
  {
   "cell_type": "code",
   "execution_count": 4,
   "id": "9dce1f4a",
   "metadata": {
    "execution": {
     "iopub.execute_input": "2024-09-25T07:38:45.593955Z",
     "iopub.status.busy": "2024-09-25T07:38:45.592923Z",
     "iopub.status.idle": "2024-09-25T07:38:45.599073Z",
     "shell.execute_reply": "2024-09-25T07:38:45.597900Z"
    },
    "papermill": {
     "duration": 0.015016,
     "end_time": "2024-09-25T07:38:45.602149",
     "exception": false,
     "start_time": "2024-09-25T07:38:45.587133",
     "status": "completed"
    },
    "tags": []
   },
   "outputs": [],
   "source": [
    "device = 'cuda' if torch.cuda.is_available() else 'cpu'"
   ]
  },
  {
   "cell_type": "code",
   "execution_count": 5,
   "id": "27b6e2cf",
   "metadata": {
    "execution": {
     "iopub.execute_input": "2024-09-25T07:38:45.613694Z",
     "iopub.status.busy": "2024-09-25T07:38:45.613130Z",
     "iopub.status.idle": "2024-09-25T07:38:54.759116Z",
     "shell.execute_reply": "2024-09-25T07:38:54.757962Z"
    },
    "papermill": {
     "duration": 9.15572,
     "end_time": "2024-09-25T07:38:54.763058",
     "exception": false,
     "start_time": "2024-09-25T07:38:45.607338",
     "status": "completed"
    },
    "tags": []
   },
   "outputs": [
    {
     "name": "stderr",
     "output_type": "stream",
     "text": [
      "/tmp/ipykernel_17/3102941380.py:3: FutureWarning: You are using `torch.load` with `weights_only=False` (the current default value), which uses the default pickle module implicitly. It is possible to construct malicious pickle data which will execute arbitrary code during unpickling (See https://github.com/pytorch/pytorch/blob/main/SECURITY.md#untrusted-models for more details). In a future release, the default value for `weights_only` will be flipped to `True`. This limits the functions that could be executed during unpickling. Arbitrary objects will no longer be allowed to be loaded via this mode unless they are explicitly allowlisted by the user via `torch.serialization.add_safe_globals`. We recommend you start setting `weights_only=True` for any use case where you don't have full control of the loaded file. Please open an issue on GitHub for any issues related to this experimental feature.\n",
      "  model = torch.load(f'{model_path}/epoch2_valid_loss_0.11764985185027832_auc_0.9871818302651691_model.bin',\n"
     ]
    }
   ],
   "source": [
    "model_path = '/kaggle/input/detect-ai-generated-text-deberta-model'\n",
    "tokenizer = AutoTokenizer.from_pretrained(f'{model_path}/bert-tokenizer')\n",
    "model = torch.load(f'{model_path}/epoch2_valid_loss_0.11764985185027832_auc_0.9871818302651691_model.bin',\n",
    "                  map_location=torch.device(device))"
   ]
  },
  {
   "cell_type": "code",
   "execution_count": 6,
   "id": "956bf934",
   "metadata": {
    "execution": {
     "iopub.execute_input": "2024-09-25T07:38:54.774739Z",
     "iopub.status.busy": "2024-09-25T07:38:54.774090Z",
     "iopub.status.idle": "2024-09-25T07:38:54.786114Z",
     "shell.execute_reply": "2024-09-25T07:38:54.784868Z"
    },
    "papermill": {
     "duration": 0.020669,
     "end_time": "2024-09-25T07:38:54.788857",
     "exception": false,
     "start_time": "2024-09-25T07:38:54.768188",
     "status": "completed"
    },
    "tags": []
   },
   "outputs": [],
   "source": [
    "class EssayDataSet(Dataset):\n",
    "    def __init__(self, data_path):\n",
    "        self.data = pd.read_csv(data_path)\n",
    "        \n",
    "    def __len__(self):\n",
    "        return len(self.data)\n",
    "    \n",
    "    def __getitem__(self, idx):\n",
    "        return self.data.iloc[idx]\n",
    "\n",
    "test_data = EssayDataSet(f'/kaggle/input/llm-detect-ai-generated-text/test_essays.csv')\n",
    "\n",
    "\n",
    "def collate_fn(batch_samples):\n",
    "    return tokenizer([batch_sample['text'] for batch_sample in batch_samples], padding=True,truncation=True, max_length=512,\n",
    "                 return_tensors=\"pt\")\n",
    "\n",
    "test_dataloader = DataLoader(test_data, batch_size=16, shuffle=False, collate_fn=collate_fn)"
   ]
  },
  {
   "cell_type": "code",
   "execution_count": 7,
   "id": "d22d0a96",
   "metadata": {
    "execution": {
     "iopub.execute_input": "2024-09-25T07:38:54.799670Z",
     "iopub.status.busy": "2024-09-25T07:38:54.799211Z",
     "iopub.status.idle": "2024-09-25T07:38:55.190646Z",
     "shell.execute_reply": "2024-09-25T07:38:55.189560Z"
    },
    "papermill": {
     "duration": 0.400292,
     "end_time": "2024-09-25T07:38:55.193600",
     "exception": false,
     "start_time": "2024-09-25T07:38:54.793308",
     "status": "completed"
    },
    "tags": []
   },
   "outputs": [],
   "source": [
    "model.eval()\n",
    "\n",
    "y_pred = []\n",
    "with torch.no_grad():\n",
    "    for X in test_dataloader:\n",
    "        pred = model(X)\n",
    "        y_pred.extend(F.sigmoid(pred).cpu().numpy().flatten())"
   ]
  },
  {
   "cell_type": "code",
   "execution_count": 8,
   "id": "cb48348d",
   "metadata": {
    "execution": {
     "iopub.execute_input": "2024-09-25T07:38:55.204859Z",
     "iopub.status.busy": "2024-09-25T07:38:55.204391Z",
     "iopub.status.idle": "2024-09-25T07:38:55.229154Z",
     "shell.execute_reply": "2024-09-25T07:38:55.227460Z"
    },
    "papermill": {
     "duration": 0.034639,
     "end_time": "2024-09-25T07:38:55.232890",
     "exception": false,
     "start_time": "2024-09-25T07:38:55.198251",
     "status": "completed"
    },
    "tags": []
   },
   "outputs": [
    {
     "data": {
      "text/html": [
       "<div>\n",
       "<style scoped>\n",
       "    .dataframe tbody tr th:only-of-type {\n",
       "        vertical-align: middle;\n",
       "    }\n",
       "\n",
       "    .dataframe tbody tr th {\n",
       "        vertical-align: top;\n",
       "    }\n",
       "\n",
       "    .dataframe thead th {\n",
       "        text-align: right;\n",
       "    }\n",
       "</style>\n",
       "<table border=\"1\" class=\"dataframe\">\n",
       "  <thead>\n",
       "    <tr style=\"text-align: right;\">\n",
       "      <th></th>\n",
       "      <th>id</th>\n",
       "      <th>generated</th>\n",
       "    </tr>\n",
       "  </thead>\n",
       "  <tbody>\n",
       "    <tr>\n",
       "      <th>0</th>\n",
       "      <td>0000aaaa</td>\n",
       "      <td>0.999731</td>\n",
       "    </tr>\n",
       "    <tr>\n",
       "      <th>1</th>\n",
       "      <td>1111bbbb</td>\n",
       "      <td>0.999712</td>\n",
       "    </tr>\n",
       "    <tr>\n",
       "      <th>2</th>\n",
       "      <td>2222cccc</td>\n",
       "      <td>0.999741</td>\n",
       "    </tr>\n",
       "  </tbody>\n",
       "</table>\n",
       "</div>"
      ],
      "text/plain": [
       "         id  generated\n",
       "0  0000aaaa   0.999731\n",
       "1  1111bbbb   0.999712\n",
       "2  2222cccc   0.999741"
      ]
     },
     "execution_count": 8,
     "metadata": {},
     "output_type": "execute_result"
    }
   ],
   "source": [
    "submission['generated'] = y_pred\n",
    "submission.to_csv('submission.csv', index=False)\n",
    "submission"
   ]
  },
  {
   "cell_type": "code",
   "execution_count": null,
   "id": "e4ccb3f6",
   "metadata": {
    "papermill": {
     "duration": 0.004413,
     "end_time": "2024-09-25T07:38:55.242310",
     "exception": false,
     "start_time": "2024-09-25T07:38:55.237897",
     "status": "completed"
    },
    "tags": []
   },
   "outputs": [],
   "source": []
  }
 ],
 "metadata": {
  "kaggle": {
   "accelerator": "none",
   "dataSources": [
    {
     "databundleVersionId": 7516023,
     "sourceId": 61542,
     "sourceType": "competition"
    },
    {
     "datasetId": 5753431,
     "sourceId": 9462887,
     "sourceType": "datasetVersion"
    },
    {
     "datasetId": 5763534,
     "sourceId": 9476472,
     "sourceType": "datasetVersion"
    }
   ],
   "dockerImageVersionId": 30761,
   "isGpuEnabled": false,
   "isInternetEnabled": false,
   "language": "python",
   "sourceType": "notebook"
  },
  "kernelspec": {
   "display_name": "Python 3 (ipykernel)",
   "language": "python",
   "name": "python3"
  },
  "language_info": {
   "codemirror_mode": {
    "name": "ipython",
    "version": 3
   },
   "file_extension": ".py",
   "mimetype": "text/x-python",
   "name": "python",
   "nbconvert_exporter": "python",
   "pygments_lexer": "ipython3",
   "version": "3.10.9"
  },
  "papermill": {
   "default_parameters": {},
   "duration": 20.498615,
   "end_time": "2024-09-25T07:38:56.672642",
   "environment_variables": {},
   "exception": null,
   "input_path": "__notebook__.ipynb",
   "output_path": "__notebook__.ipynb",
   "parameters": {},
   "start_time": "2024-09-25T07:38:36.174027",
   "version": "2.6.0"
  }
 },
 "nbformat": 4,
 "nbformat_minor": 5
}
