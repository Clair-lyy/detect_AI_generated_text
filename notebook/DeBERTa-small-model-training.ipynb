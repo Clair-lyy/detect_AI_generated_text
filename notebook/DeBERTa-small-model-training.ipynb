{
 "cells": [
  {
   "cell_type": "code",
   "execution_count": 1,
   "id": "9c4748c6",
   "metadata": {
    "_cell_guid": "b1076dfc-b9ad-4769-8c92-a6c4dae69d19",
    "_uuid": "8f2839f25d086af736a60e9eeb907d3b93b6e0e5",
    "execution": {
     "iopub.execute_input": "2024-09-25T01:58:16.743965Z",
     "iopub.status.busy": "2024-09-25T01:58:16.743224Z",
     "iopub.status.idle": "2024-09-25T01:58:23.038255Z",
     "shell.execute_reply": "2024-09-25T01:58:23.037244Z"
    },
    "papermill": {
     "duration": 6.304661,
     "end_time": "2024-09-25T01:58:23.040667",
     "exception": false,
     "start_time": "2024-09-25T01:58:16.736006",
     "status": "completed"
    },
    "tags": []
   },
   "outputs": [],
   "source": [
    "import pandas as pd\n",
    "import numpy as np\n",
    "\n",
    "import torch\n",
    "import torch.nn.functional as F\n",
    "from torch import nn\n",
    "from torch.utils.data import Dataset,DataLoader\n",
    "from transformers import AutoTokenizer, AutoModel, AdamW, get_scheduler\n",
    "from sklearn.metrics import roc_auc_score"
   ]
  },
  {
   "cell_type": "code",
   "execution_count": 2,
   "id": "8b418b56",
   "metadata": {
    "execution": {
     "iopub.execute_input": "2024-09-25T01:58:23.052468Z",
     "iopub.status.busy": "2024-09-25T01:58:23.051886Z",
     "iopub.status.idle": "2024-09-25T01:58:23.121922Z",
     "shell.execute_reply": "2024-09-25T01:58:23.121041Z"
    },
    "papermill": {
     "duration": 0.078203,
     "end_time": "2024-09-25T01:58:23.124155",
     "exception": false,
     "start_time": "2024-09-25T01:58:23.045952",
     "status": "completed"
    },
    "tags": []
   },
   "outputs": [],
   "source": [
    "def seed_everything(seed=42):\n",
    "    torch.manual_seed(seed)\n",
    "    torch.cuda.manual_seed(seed)\n",
    "    \n",
    "seed_everything(42)\n",
    "device = 'cuda' if torch.cuda.is_available() else 'cpu'"
   ]
  },
  {
   "cell_type": "code",
   "execution_count": 3,
   "id": "7b81b706",
   "metadata": {
    "execution": {
     "iopub.execute_input": "2024-09-25T01:58:23.135331Z",
     "iopub.status.busy": "2024-09-25T01:58:23.135000Z",
     "iopub.status.idle": "2024-09-25T01:58:23.254163Z",
     "shell.execute_reply": "2024-09-25T01:58:23.253190Z"
    },
    "papermill": {
     "duration": 0.127034,
     "end_time": "2024-09-25T01:58:23.256295",
     "exception": false,
     "start_time": "2024-09-25T01:58:23.129261",
     "status": "completed"
    },
    "tags": []
   },
   "outputs": [
    {
     "name": "stdout",
     "output_type": "stream",
     "text": [
      "(1378, 4)\n",
      "(3, 3)\n"
     ]
    },
    {
     "data": {
      "text/html": [
       "<div>\n",
       "<style scoped>\n",
       "    .dataframe tbody tr th:only-of-type {\n",
       "        vertical-align: middle;\n",
       "    }\n",
       "\n",
       "    .dataframe tbody tr th {\n",
       "        vertical-align: top;\n",
       "    }\n",
       "\n",
       "    .dataframe thead th {\n",
       "        text-align: right;\n",
       "    }\n",
       "</style>\n",
       "<table border=\"1\" class=\"dataframe\">\n",
       "  <thead>\n",
       "    <tr style=\"text-align: right;\">\n",
       "      <th></th>\n",
       "      <th>id</th>\n",
       "      <th>prompt_id</th>\n",
       "      <th>text</th>\n",
       "      <th>generated</th>\n",
       "    </tr>\n",
       "  </thead>\n",
       "  <tbody>\n",
       "    <tr>\n",
       "      <th>803</th>\n",
       "      <td>921654a9</td>\n",
       "      <td>1</td>\n",
       "      <td>Dear Florida state senator, I highly suggest w...</td>\n",
       "      <td>0</td>\n",
       "    </tr>\n",
       "    <tr>\n",
       "      <th>245</th>\n",
       "      <td>30da029c</td>\n",
       "      <td>0</td>\n",
       "      <td>From riding horses with wagons to, driving car...</td>\n",
       "      <td>0</td>\n",
       "    </tr>\n",
       "    <tr>\n",
       "      <th>57</th>\n",
       "      <td>0b89ae3e</td>\n",
       "      <td>0</td>\n",
       "      <td>They come in red, blue, green, black, and whit...</td>\n",
       "      <td>0</td>\n",
       "    </tr>\n",
       "    <tr>\n",
       "      <th>869</th>\n",
       "      <td>9cf53db9</td>\n",
       "      <td>1</td>\n",
       "      <td>Every four years there is an election. The ele...</td>\n",
       "      <td>0</td>\n",
       "    </tr>\n",
       "    <tr>\n",
       "      <th>175</th>\n",
       "      <td>223bbf18</td>\n",
       "      <td>0</td>\n",
       "      <td>When limiting car usage the first thing that m...</td>\n",
       "      <td>0</td>\n",
       "    </tr>\n",
       "  </tbody>\n",
       "</table>\n",
       "</div>"
      ],
      "text/plain": [
       "           id  prompt_id                                               text  \\\n",
       "803  921654a9          1  Dear Florida state senator, I highly suggest w...   \n",
       "245  30da029c          0  From riding horses with wagons to, driving car...   \n",
       "57   0b89ae3e          0  They come in red, blue, green, black, and whit...   \n",
       "869  9cf53db9          1  Every four years there is an election. The ele...   \n",
       "175  223bbf18          0  When limiting car usage the first thing that m...   \n",
       "\n",
       "     generated  \n",
       "803          0  \n",
       "245          0  \n",
       "57           0  \n",
       "869          0  \n",
       "175          0  "
      ]
     },
     "execution_count": 3,
     "metadata": {},
     "output_type": "execute_result"
    }
   ],
   "source": [
    "input_path = '/kaggle/input/llm-detect-ai-generated-text'\n",
    "train_essays = pd.read_csv(f'{input_path}/train_essays.csv')\n",
    "test_essays = pd.read_csv(f'{input_path}/test_essays.csv')\n",
    "print(train_essays.shape)\n",
    "print(test_essays.shape)\n",
    "train_essays.sample(5)"
   ]
  },
  {
   "cell_type": "code",
   "execution_count": 4,
   "id": "8cca96ef",
   "metadata": {
    "execution": {
     "iopub.execute_input": "2024-09-25T01:58:23.268424Z",
     "iopub.status.busy": "2024-09-25T01:58:23.268099Z",
     "iopub.status.idle": "2024-09-25T01:58:27.198602Z",
     "shell.execute_reply": "2024-09-25T01:58:27.197637Z"
    },
    "papermill": {
     "duration": 3.939546,
     "end_time": "2024-09-25T01:58:27.201356",
     "exception": false,
     "start_time": "2024-09-25T01:58:23.261810",
     "status": "completed"
    },
    "tags": []
   },
   "outputs": [
    {
     "name": "stdout",
     "output_type": "stream",
     "text": [
      "(165767, 4)\n",
      "(1679, 4)\n"
     ]
    },
    {
     "data": {
      "text/html": [
       "<div>\n",
       "<style scoped>\n",
       "    .dataframe tbody tr th:only-of-type {\n",
       "        vertical-align: middle;\n",
       "    }\n",
       "\n",
       "    .dataframe tbody tr th {\n",
       "        vertical-align: top;\n",
       "    }\n",
       "\n",
       "    .dataframe thead th {\n",
       "        text-align: right;\n",
       "    }\n",
       "</style>\n",
       "<table border=\"1\" class=\"dataframe\">\n",
       "  <thead>\n",
       "    <tr style=\"text-align: right;\">\n",
       "      <th></th>\n",
       "      <th>id</th>\n",
       "      <th>prompt_id</th>\n",
       "      <th>text</th>\n",
       "      <th>generated</th>\n",
       "    </tr>\n",
       "  </thead>\n",
       "  <tbody>\n",
       "    <tr>\n",
       "      <th>40679</th>\n",
       "      <td>e_2y1lr2ru</td>\n",
       "      <td>6</td>\n",
       "      <td>Studying Venus is a worthy pursuit despite the...</td>\n",
       "      <td>0</td>\n",
       "    </tr>\n",
       "    <tr>\n",
       "      <th>150862</th>\n",
       "      <td>e_wau89tqz</td>\n",
       "      <td>12</td>\n",
       "      <td>Asking multiple people for advice is good beca...</td>\n",
       "      <td>0</td>\n",
       "    </tr>\n",
       "    <tr>\n",
       "      <th>144713</th>\n",
       "      <td>e_eoj8qbus</td>\n",
       "      <td>7</td>\n",
       "      <td>Many will say that distance learning is a real...</td>\n",
       "      <td>1</td>\n",
       "    </tr>\n",
       "    <tr>\n",
       "      <th>79090</th>\n",
       "      <td>e_268at02t</td>\n",
       "      <td>2</td>\n",
       "      <td>The face on Mars is just 3D illusion. It is no...</td>\n",
       "      <td>1</td>\n",
       "    </tr>\n",
       "    <tr>\n",
       "      <th>20210</th>\n",
       "      <td>e_mqc5z204</td>\n",
       "      <td>1</td>\n",
       "      <td>Dear senator,\\n\\nI highly suggest you to recon...</td>\n",
       "      <td>1</td>\n",
       "    </tr>\n",
       "  </tbody>\n",
       "</table>\n",
       "</div>"
      ],
      "text/plain": [
       "                id  prompt_id  \\\n",
       "40679   e_2y1lr2ru          6   \n",
       "150862  e_wau89tqz         12   \n",
       "144713  e_eoj8qbus          7   \n",
       "79090   e_268at02t          2   \n",
       "20210   e_mqc5z204          1   \n",
       "\n",
       "                                                     text  generated  \n",
       "40679   Studying Venus is a worthy pursuit despite the...          0  \n",
       "150862  Asking multiple people for advice is good beca...          0  \n",
       "144713  Many will say that distance learning is a real...          1  \n",
       "79090   The face on Mars is just 3D illusion. It is no...          1  \n",
       "20210   Dear senator,\\n\\nI highly suggest you to recon...          1  "
      ]
     },
     "execution_count": 4,
     "metadata": {},
     "output_type": "execute_result"
    }
   ],
   "source": [
    "datamix_input_path = '/kaggle/input/ai-mix-v26'\n",
    "datamix_train = pd.read_parquet(f'{datamix_input_path}/train_essays.parquet')\n",
    "datamix_valid = pd.read_parquet(f'{datamix_input_path}/valid_essays.parquet')\n",
    "print(datamix_train.shape)\n",
    "print(datamix_valid.shape)\n",
    "datamix_train.sample(5)"
   ]
  },
  {
   "cell_type": "code",
   "execution_count": 5,
   "id": "44f218a9",
   "metadata": {
    "execution": {
     "iopub.execute_input": "2024-09-25T01:58:27.214409Z",
     "iopub.status.busy": "2024-09-25T01:58:27.214058Z",
     "iopub.status.idle": "2024-09-25T01:58:27.221044Z",
     "shell.execute_reply": "2024-09-25T01:58:27.220242Z"
    },
    "papermill": {
     "duration": 0.015451,
     "end_time": "2024-09-25T01:58:27.223020",
     "exception": false,
     "start_time": "2024-09-25T01:58:27.207569",
     "status": "completed"
    },
    "tags": []
   },
   "outputs": [
    {
     "data": {
      "text/plain": [
       "id                                                  e_5padvwnu\n",
       "prompt_id                                                    0\n",
       "text         _,_ _and it has to do with the fact that if yo...\n",
       "generated                                                    1\n",
       "Name: 0, dtype: object"
      ]
     },
     "execution_count": 5,
     "metadata": {},
     "output_type": "execute_result"
    }
   ],
   "source": [
    "datamix_valid.iloc[0]"
   ]
  },
  {
   "cell_type": "code",
   "execution_count": 6,
   "id": "a02b85be",
   "metadata": {
    "execution": {
     "iopub.execute_input": "2024-09-25T01:58:27.235267Z",
     "iopub.status.busy": "2024-09-25T01:58:27.234960Z",
     "iopub.status.idle": "2024-09-25T01:58:29.507890Z",
     "shell.execute_reply": "2024-09-25T01:58:29.507059Z"
    },
    "papermill": {
     "duration": 2.281856,
     "end_time": "2024-09-25T01:58:29.510347",
     "exception": false,
     "start_time": "2024-09-25T01:58:27.228491",
     "status": "completed"
    },
    "tags": []
   },
   "outputs": [],
   "source": [
    "class EssayDataSet(Dataset):\n",
    "    def __init__(self, data_path):\n",
    "        self.data = pd.read_parquet(data_path)\n",
    "        \n",
    "    def __len__(self):\n",
    "        return len(self.data)\n",
    "    \n",
    "    def __getitem__(self, idx):\n",
    "        return self.data.iloc[idx]\n",
    "\n",
    "train_data = EssayDataSet(f'{datamix_input_path}/train_essays.parquet')\n",
    "valid_data = EssayDataSet(f'{datamix_input_path}/valid_essays.parquet')"
   ]
  },
  {
   "cell_type": "code",
   "execution_count": 7,
   "id": "4995a826",
   "metadata": {
    "execution": {
     "iopub.execute_input": "2024-09-25T01:58:29.523956Z",
     "iopub.status.busy": "2024-09-25T01:58:29.523625Z",
     "iopub.status.idle": "2024-09-25T01:58:32.241194Z",
     "shell.execute_reply": "2024-09-25T01:58:32.240353Z"
    },
    "papermill": {
     "duration": 2.727026,
     "end_time": "2024-09-25T01:58:32.243612",
     "exception": false,
     "start_time": "2024-09-25T01:58:29.516586",
     "status": "completed"
    },
    "tags": []
   },
   "outputs": [
    {
     "data": {
      "application/vnd.jupyter.widget-view+json": {
       "model_id": "aa17642513644a6386e4df2ed07ee138",
       "version_major": 2,
       "version_minor": 0
      },
      "text/plain": [
       "tokenizer_config.json:   0%|          | 0.00/52.0 [00:00<?, ?B/s]"
      ]
     },
     "metadata": {},
     "output_type": "display_data"
    },
    {
     "data": {
      "application/vnd.jupyter.widget-view+json": {
       "model_id": "27fa300c4b634e13ab9be882c084605a",
       "version_major": 2,
       "version_minor": 0
      },
      "text/plain": [
       "config.json:   0%|          | 0.00/578 [00:00<?, ?B/s]"
      ]
     },
     "metadata": {},
     "output_type": "display_data"
    },
    {
     "data": {
      "application/vnd.jupyter.widget-view+json": {
       "model_id": "486fce75bee94d22889496da01ab14d6",
       "version_major": 2,
       "version_minor": 0
      },
      "text/plain": [
       "spm.model:   0%|          | 0.00/2.46M [00:00<?, ?B/s]"
      ]
     },
     "metadata": {},
     "output_type": "display_data"
    },
    {
     "name": "stderr",
     "output_type": "stream",
     "text": [
      "/opt/conda/lib/python3.10/site-packages/transformers/tokenization_utils_base.py:1601: FutureWarning: `clean_up_tokenization_spaces` was not set. It will be set to `True` by default. This behavior will be depracted in transformers v4.45, and will be then set to `False` by default. For more details check this issue: https://github.com/huggingface/transformers/issues/31884\n",
      "  warnings.warn(\n",
      "/opt/conda/lib/python3.10/site-packages/transformers/convert_slow_tokenizer.py:551: UserWarning: The sentencepiece tokenizer that you are converting to a fast tokenizer uses the byte fallback option which is not implemented in the fast tokenizers. In practice this means that the fast version of the tokenizer can produce unknown tokens whereas the sentencepiece version would have converted these unknown tokens into a sequence of byte tokens matching the original piece of text.\n",
      "  warnings.warn(\n"
     ]
    }
   ],
   "source": [
    "checkpoint = 'microsoft/deberta-v3-small'\n",
    "tokenizer = AutoTokenizer.from_pretrained(checkpoint)\n",
    "\n",
    "def collate_fn(batch_samples):\n",
    "    X = tokenizer([batch_sample['text'] for batch_sample in batch_samples], padding=True,truncation=True, max_length=512,\n",
    "                 return_tensors=\"pt\")\n",
    "    y = torch.tensor([batch_sample['generated'] for batch_sample in batch_samples])\n",
    "    return X, y\n",
    "    "
   ]
  },
  {
   "cell_type": "code",
   "execution_count": 8,
   "id": "9c33aa8a",
   "metadata": {
    "execution": {
     "iopub.execute_input": "2024-09-25T01:58:32.259047Z",
     "iopub.status.busy": "2024-09-25T01:58:32.257997Z",
     "iopub.status.idle": "2024-09-25T01:58:32.309227Z",
     "shell.execute_reply": "2024-09-25T01:58:32.308241Z"
    },
    "papermill": {
     "duration": 0.06103,
     "end_time": "2024-09-25T01:58:32.311445",
     "exception": false,
     "start_time": "2024-09-25T01:58:32.250415",
     "status": "completed"
    },
    "tags": []
   },
   "outputs": [
    {
     "data": {
      "text/plain": [
       "('bert-tokenizer/tokenizer_config.json',\n",
       " 'bert-tokenizer/special_tokens_map.json',\n",
       " 'bert-tokenizer/spm.model',\n",
       " 'bert-tokenizer/added_tokens.json',\n",
       " 'bert-tokenizer/tokenizer.json')"
      ]
     },
     "execution_count": 8,
     "metadata": {},
     "output_type": "execute_result"
    }
   ],
   "source": [
    "tokenizer.save_pretrained('bert-tokenizer')"
   ]
  },
  {
   "cell_type": "code",
   "execution_count": 9,
   "id": "8e64c91b",
   "metadata": {
    "execution": {
     "iopub.execute_input": "2024-09-25T01:58:32.326099Z",
     "iopub.status.busy": "2024-09-25T01:58:32.325735Z",
     "iopub.status.idle": "2024-09-25T01:58:32.330570Z",
     "shell.execute_reply": "2024-09-25T01:58:32.329714Z"
    },
    "papermill": {
     "duration": 0.014399,
     "end_time": "2024-09-25T01:58:32.332517",
     "exception": false,
     "start_time": "2024-09-25T01:58:32.318118",
     "status": "completed"
    },
    "tags": []
   },
   "outputs": [],
   "source": [
    "train_dataloader = DataLoader(train_data, batch_size=16, shuffle=True, collate_fn=collate_fn)\n",
    "valid_dataloader = DataLoader(valid_data, batch_size=16, shuffle=False, collate_fn=collate_fn)"
   ]
  },
  {
   "cell_type": "code",
   "execution_count": 10,
   "id": "81bf021f",
   "metadata": {
    "execution": {
     "iopub.execute_input": "2024-09-25T01:58:32.346709Z",
     "iopub.status.busy": "2024-09-25T01:58:32.346171Z",
     "iopub.status.idle": "2024-09-25T01:58:32.350150Z",
     "shell.execute_reply": "2024-09-25T01:58:32.349238Z"
    },
    "papermill": {
     "duration": 0.013238,
     "end_time": "2024-09-25T01:58:32.352145",
     "exception": false,
     "start_time": "2024-09-25T01:58:32.338907",
     "status": "completed"
    },
    "tags": []
   },
   "outputs": [],
   "source": [
    "#next(iter(train_dataloader))[0]['input_ids'].shape"
   ]
  },
  {
   "cell_type": "code",
   "execution_count": 11,
   "id": "ee40d474",
   "metadata": {
    "execution": {
     "iopub.execute_input": "2024-09-25T01:58:32.367390Z",
     "iopub.status.busy": "2024-09-25T01:58:32.366515Z",
     "iopub.status.idle": "2024-09-25T01:58:38.228621Z",
     "shell.execute_reply": "2024-09-25T01:58:38.227586Z"
    },
    "papermill": {
     "duration": 5.872353,
     "end_time": "2024-09-25T01:58:38.230911",
     "exception": false,
     "start_time": "2024-09-25T01:58:32.358558",
     "status": "completed"
    },
    "tags": []
   },
   "outputs": [
    {
     "data": {
      "application/vnd.jupyter.widget-view+json": {
       "model_id": "33736bbd80f9416b8fe855c7ce3339d1",
       "version_major": 2,
       "version_minor": 0
      },
      "text/plain": [
       "pytorch_model.bin:   0%|          | 0.00/286M [00:00<?, ?B/s]"
      ]
     },
     "metadata": {},
     "output_type": "display_data"
    }
   ],
   "source": [
    "class MeanPooling(nn.Module):\n",
    "    def __init__(self):\n",
    "        super(MeanPooling, self).__init__()\n",
    "\n",
    "    def forward(self, last_hidden_state, attention_mask):\n",
    "        input_mask_expanded = attention_mask.unsqueeze(-1).expand(last_hidden_state.size()).float()\n",
    "        sum_embeddings = torch.sum(last_hidden_state * input_mask_expanded, 1)\n",
    "        sum_mask = input_mask_expanded.sum(1)\n",
    "        sum_mask = torch.clamp(sum_mask, min=1e-9)\n",
    "        mean_embeddings = sum_embeddings / sum_mask\n",
    "        return mean_embeddings\n",
    "\n",
    "class ClassifierModel(nn.Module):\n",
    "    def __init__(self, checkpoint):\n",
    "        super(ClassifierModel, self).__init__()\n",
    "        self.bert_model = AutoModel.from_pretrained(checkpoint)\n",
    "        self.dropout = nn.Dropout(0.1)\n",
    "        self.classifier = nn.Linear(768, 1)\n",
    "        self.pool = MeanPooling()\n",
    "        \n",
    "    def encode(self, input_ids, attention_mask, token_type_ids):\n",
    "        outputs = self.bert_model(\n",
    "            input_ids,\n",
    "            attention_mask=attention_mask,\n",
    "            token_type_ids=token_type_ids,\n",
    "            output_hidden_states=False\n",
    "        )\n",
    "\n",
    "        encoder_layer = outputs.last_hidden_state\n",
    "        embeddings = self.pool(encoder_layer, attention_mask)\n",
    "\n",
    "        return embeddings\n",
    "        \n",
    "    def forward(self, x):\n",
    "        bert_output = self.encode(**x)\n",
    "        x = self.dropout(bert_output)\n",
    "        x = self.classifier(x)\n",
    "        return x\n",
    "\n",
    "model = ClassifierModel(checkpoint).to(device)"
   ]
  },
  {
   "cell_type": "code",
   "execution_count": 12,
   "id": "67e050ec",
   "metadata": {
    "execution": {
     "iopub.execute_input": "2024-09-25T01:58:38.245821Z",
     "iopub.status.busy": "2024-09-25T01:58:38.244919Z",
     "iopub.status.idle": "2024-09-25T01:58:38.815174Z",
     "shell.execute_reply": "2024-09-25T01:58:38.814333Z"
    },
    "papermill": {
     "duration": 0.579785,
     "end_time": "2024-09-25T01:58:38.817380",
     "exception": false,
     "start_time": "2024-09-25T01:58:38.237595",
     "status": "completed"
    },
    "tags": []
   },
   "outputs": [
    {
     "name": "stderr",
     "output_type": "stream",
     "text": [
      "/opt/conda/lib/python3.10/site-packages/transformers/optimization.py:591: FutureWarning: This implementation of AdamW is deprecated and will be removed in a future version. Use the PyTorch implementation torch.optim.AdamW instead, or set `no_deprecation_warning=True` to disable this warning\n",
      "  warnings.warn(\n"
     ]
    }
   ],
   "source": [
    "#loss_fn = nn.CrossEntropyLoss()\n",
    "loss_fn = nn.BCEWithLogitsLoss()\n",
    "optimizer = AdamW(model.parameters(), lr=0.0001)"
   ]
  },
  {
   "cell_type": "code",
   "execution_count": 13,
   "id": "a126bac3",
   "metadata": {
    "execution": {
     "iopub.execute_input": "2024-09-25T01:58:38.832532Z",
     "iopub.status.busy": "2024-09-25T01:58:38.831922Z",
     "iopub.status.idle": "2024-09-25T01:58:38.841218Z",
     "shell.execute_reply": "2024-09-25T01:58:38.840405Z"
    },
    "papermill": {
     "duration": 0.01905,
     "end_time": "2024-09-25T01:58:38.843211",
     "exception": false,
     "start_time": "2024-09-25T01:58:38.824161",
     "status": "completed"
    },
    "tags": []
   },
   "outputs": [
    {
     "data": {
      "text/plain": [
       "'\\ndef test_loop(valid_dataloader, model, loss_fn):\\n    loss = 0\\n    correct = 0\\n    dataloader_size = len(valid_dataloader)\\n    model.eval()\\n    \\n    y_true = []\\n    y_pred = []\\n    with torch.no_grad():\\n        for (X,y) in valid_dataloader:\\n            X,y = X.to(device), y.to(device)\\n            pred = model(X)\\n            loss += loss_fn(pred, y).item()\\n            \\n            ## todo: update y_true\\n            y_true.extend(y.cpu().numpy().flatten())\\n            y_pred.extend(pred.argmax(1).cpu().numpy().flatten())\\n            ## todo: update y_pred\\n    \\n    auc = roc_auc_score(y_true, y_pred)\\n    loss /= dataloader_size\\n    return loss, auc\\n'"
      ]
     },
     "execution_count": 13,
     "metadata": {},
     "output_type": "execute_result"
    }
   ],
   "source": [
    "def train_loop(train_dataloader, model, loss_fn, optimizer):\n",
    "    total_loss = 0\n",
    "    size = len(train_dataloader)\n",
    "    model.train()\n",
    "    \n",
    "    for X, y in train_dataloader:\n",
    "        X,y = X.to(device), y.to(device).float()\n",
    "        pred = model(X)\n",
    "        loss = loss_fn(pred, y.unsqueeze(1))\n",
    "        total_loss += loss.item()\n",
    "        \n",
    "        optimizer.zero_grad()\n",
    "        loss.backward()\n",
    "        optimizer.step()\n",
    "    \n",
    "    return total_loss/size\n",
    "'''\n",
    "def test_loop(valid_dataloader, model, loss_fn):\n",
    "    loss = 0\n",
    "    correct = 0\n",
    "    dataloader_size = len(valid_dataloader)\n",
    "    model.eval()\n",
    "    \n",
    "    y_true = []\n",
    "    y_pred = []\n",
    "    with torch.no_grad():\n",
    "        for (X,y) in valid_dataloader:\n",
    "            X,y = X.to(device), y.to(device)\n",
    "            pred = model(X)\n",
    "            loss += loss_fn(pred, y).item()\n",
    "            \n",
    "            ## todo: update y_true\n",
    "            y_true.extend(y.cpu().numpy().flatten())\n",
    "            y_pred.extend(pred.argmax(1).cpu().numpy().flatten())\n",
    "            ## todo: update y_pred\n",
    "    \n",
    "    auc = roc_auc_score(y_true, y_pred)\n",
    "    loss /= dataloader_size\n",
    "    return loss, auc\n",
    "'''"
   ]
  },
  {
   "cell_type": "code",
   "execution_count": 14,
   "id": "607a43a6",
   "metadata": {
    "execution": {
     "iopub.execute_input": "2024-09-25T01:58:38.857723Z",
     "iopub.status.busy": "2024-09-25T01:58:38.857441Z",
     "iopub.status.idle": "2024-09-25T01:58:38.864928Z",
     "shell.execute_reply": "2024-09-25T01:58:38.864060Z"
    },
    "papermill": {
     "duration": 0.016929,
     "end_time": "2024-09-25T01:58:38.866738",
     "exception": false,
     "start_time": "2024-09-25T01:58:38.849809",
     "status": "completed"
    },
    "tags": []
   },
   "outputs": [],
   "source": [
    "import torch  \n",
    "from sklearn.metrics import roc_auc_score  \n",
    "\n",
    "def test_loop(valid_dataloader, model, loss_fn):  \n",
    "    loss = 0  \n",
    "    dataloader_size = len(valid_dataloader)  \n",
    "    \n",
    "    # Initialize lists to hold the true labels and predictions  \n",
    "    y_true = []  \n",
    "    y_pred = []  \n",
    "    \n",
    "    model.eval()  \n",
    "    \n",
    "    with torch.no_grad():  \n",
    "        for (X, y) in valid_dataloader:  \n",
    "            X, y = X.to(device), y.to(device).float()  \n",
    "            pred = model(X)  \n",
    "            \n",
    "            # Calculate the loss  \n",
    "            loss += loss_fn(pred, y.unsqueeze(1)).item()  \n",
    "            \n",
    "            # Append the true labels and predicted probabilities to the lists  \n",
    "            y_true.extend(y.cpu().numpy().flatten())  # Use .cpu() to move to CPU for numpy conversion  \n",
    "            y_pred.extend(pred.cpu().numpy().flatten())  # Assuming pred contains probabilities  \n",
    "            \n",
    "    # Calculate the AUC  \n",
    "    auc = roc_auc_score(y_true, y_pred)  \n",
    "    loss /= dataloader_size  \n",
    "    \n",
    "    return loss, auc  "
   ]
  },
  {
   "cell_type": "code",
   "execution_count": 15,
   "id": "b23405b4",
   "metadata": {
    "execution": {
     "iopub.execute_input": "2024-09-25T01:58:38.880849Z",
     "iopub.status.busy": "2024-09-25T01:58:38.880548Z",
     "iopub.status.idle": "2024-09-25T07:18:34.155095Z",
     "shell.execute_reply": "2024-09-25T07:18:34.154044Z"
    },
    "papermill": {
     "duration": 19195.284368,
     "end_time": "2024-09-25T07:18:34.157616",
     "exception": false,
     "start_time": "2024-09-25T01:58:38.873248",
     "status": "completed"
    },
    "tags": []
   },
   "outputs": [
    {
     "name": "stdout",
     "output_type": "stream",
     "text": [
      "epoch: 1, train loss: 0.2029484167142845, valid_loss: 0.12448973938201864, valid_auc: 0.9861787233335548\n",
      "epoch: 2, train loss: 0.10623879123502172, valid_loss: 0.11764985185027832, valid_auc: 0.9871818302651691\n",
      "epoch: 3, train loss: 0.07443940020417966, valid_loss: 0.22690615657290134, valid_auc: 0.9789139861766465\n"
     ]
    }
   ],
   "source": [
    "epoch_num = 3\n",
    "best_auc = 0\n",
    "for epoch in range(epoch_num):\n",
    "    train_loss = train_loop(train_dataloader, model, loss_fn, optimizer)\n",
    "    valid_loss, valid_auc = test_loop(valid_dataloader, model, loss_fn)\n",
    "    \n",
    "    print(f\"epoch: {epoch+1}, train loss: {train_loss}, valid_loss: {valid_loss}, valid_auc: {valid_auc}\")\n",
    "    \n",
    "    if valid_auc > best_auc:\n",
    "        torch.save(model, f'epoch{epoch+1}_valid_loss_{valid_loss}_auc_{valid_auc}_model.bin')\n",
    "        \n",
    "    torch.cuda.empty_cache() "
   ]
  },
  {
   "cell_type": "code",
   "execution_count": null,
   "id": "50c6f7bb",
   "metadata": {
    "papermill": {
     "duration": 0.006692,
     "end_time": "2024-09-25T07:18:34.171387",
     "exception": false,
     "start_time": "2024-09-25T07:18:34.164695",
     "status": "completed"
    },
    "tags": []
   },
   "outputs": [],
   "source": []
  }
 ],
 "metadata": {
  "kaggle": {
   "accelerator": "gpu",
   "dataSources": [
    {
     "databundleVersionId": 7516023,
     "sourceId": 61542,
     "sourceType": "competition"
    },
    {
     "datasetId": 4325258,
     "sourceId": 7432540,
     "sourceType": "datasetVersion"
    }
   ],
   "dockerImageVersionId": 30761,
   "isGpuEnabled": true,
   "isInternetEnabled": true,
   "language": "python",
   "sourceType": "notebook"
  },
  "kernelspec": {
   "display_name": "Python 3",
   "language": "python",
   "name": "python3"
  },
  "language_info": {
   "codemirror_mode": {
    "name": "ipython",
    "version": 3
   },
   "file_extension": ".py",
   "mimetype": "text/x-python",
   "name": "python",
   "nbconvert_exporter": "python",
   "pygments_lexer": "ipython3",
   "version": "3.10.14"
  },
  "papermill": {
   "default_parameters": {},
   "duration": 19221.956561,
   "end_time": "2024-09-25T07:18:35.902930",
   "environment_variables": {},
   "exception": null,
   "input_path": "__notebook__.ipynb",
   "output_path": "__notebook__.ipynb",
   "parameters": {},
   "start_time": "2024-09-25T01:58:13.946369",
   "version": "2.6.0"
  },
  "widgets": {
   "application/vnd.jupyter.widget-state+json": {
    "state": {
     "0208f80411f7459f9743df03e543f520": {
      "model_module": "@jupyter-widgets/base",
      "model_module_version": "1.2.0",
      "model_name": "LayoutModel",
      "state": {
       "_model_module": "@jupyter-widgets/base",
       "_model_module_version": "1.2.0",
       "_model_name": "LayoutModel",
       "_view_count": null,
       "_view_module": "@jupyter-widgets/base",
       "_view_module_version": "1.2.0",
       "_view_name": "LayoutView",
       "align_content": null,
       "align_items": null,
       "align_self": null,
       "border": null,
       "bottom": null,
       "display": null,
       "flex": null,
       "flex_flow": null,
       "grid_area": null,
       "grid_auto_columns": null,
       "grid_auto_flow": null,
       "grid_auto_rows": null,
       "grid_column": null,
       "grid_gap": null,
       "grid_row": null,
       "grid_template_areas": null,
       "grid_template_columns": null,
       "grid_template_rows": null,
       "height": null,
       "justify_content": null,
       "justify_items": null,
       "left": null,
       "margin": null,
       "max_height": null,
       "max_width": null,
       "min_height": null,
       "min_width": null,
       "object_fit": null,
       "object_position": null,
       "order": null,
       "overflow": null,
       "overflow_x": null,
       "overflow_y": null,
       "padding": null,
       "right": null,
       "top": null,
       "visibility": null,
       "width": null
      }
     },
     "0584f84ad212457bb201bcd846f6cd02": {
      "model_module": "@jupyter-widgets/base",
      "model_module_version": "1.2.0",
      "model_name": "LayoutModel",
      "state": {
       "_model_module": "@jupyter-widgets/base",
       "_model_module_version": "1.2.0",
       "_model_name": "LayoutModel",
       "_view_count": null,
       "_view_module": "@jupyter-widgets/base",
       "_view_module_version": "1.2.0",
       "_view_name": "LayoutView",
       "align_content": null,
       "align_items": null,
       "align_self": null,
       "border": null,
       "bottom": null,
       "display": null,
       "flex": null,
       "flex_flow": null,
       "grid_area": null,
       "grid_auto_columns": null,
       "grid_auto_flow": null,
       "grid_auto_rows": null,
       "grid_column": null,
       "grid_gap": null,
       "grid_row": null,
       "grid_template_areas": null,
       "grid_template_columns": null,
       "grid_template_rows": null,
       "height": null,
       "justify_content": null,
       "justify_items": null,
       "left": null,
       "margin": null,
       "max_height": null,
       "max_width": null,
       "min_height": null,
       "min_width": null,
       "object_fit": null,
       "object_position": null,
       "order": null,
       "overflow": null,
       "overflow_x": null,
       "overflow_y": null,
       "padding": null,
       "right": null,
       "top": null,
       "visibility": null,
       "width": null
      }
     },
     "088bd3f2672b48babe6c82e6edf82622": {
      "model_module": "@jupyter-widgets/base",
      "model_module_version": "1.2.0",
      "model_name": "LayoutModel",
      "state": {
       "_model_module": "@jupyter-widgets/base",
       "_model_module_version": "1.2.0",
       "_model_name": "LayoutModel",
       "_view_count": null,
       "_view_module": "@jupyter-widgets/base",
       "_view_module_version": "1.2.0",
       "_view_name": "LayoutView",
       "align_content": null,
       "align_items": null,
       "align_self": null,
       "border": null,
       "bottom": null,
       "display": null,
       "flex": null,
       "flex_flow": null,
       "grid_area": null,
       "grid_auto_columns": null,
       "grid_auto_flow": null,
       "grid_auto_rows": null,
       "grid_column": null,
       "grid_gap": null,
       "grid_row": null,
       "grid_template_areas": null,
       "grid_template_columns": null,
       "grid_template_rows": null,
       "height": null,
       "justify_content": null,
       "justify_items": null,
       "left": null,
       "margin": null,
       "max_height": null,
       "max_width": null,
       "min_height": null,
       "min_width": null,
       "object_fit": null,
       "object_position": null,
       "order": null,
       "overflow": null,
       "overflow_x": null,
       "overflow_y": null,
       "padding": null,
       "right": null,
       "top": null,
       "visibility": null,
       "width": null
      }
     },
     "2421f12d51864713a7a25f99e666cc28": {
      "model_module": "@jupyter-widgets/controls",
      "model_module_version": "1.5.0",
      "model_name": "HTMLModel",
      "state": {
       "_dom_classes": [],
       "_model_module": "@jupyter-widgets/controls",
       "_model_module_version": "1.5.0",
       "_model_name": "HTMLModel",
       "_view_count": null,
       "_view_module": "@jupyter-widgets/controls",
       "_view_module_version": "1.5.0",
       "_view_name": "HTMLView",
       "description": "",
       "description_tooltip": null,
       "layout": "IPY_MODEL_63947ab948d448198f6c128bca5a9f2b",
       "placeholder": "​",
       "style": "IPY_MODEL_8113a07092ac4c8cb05413fd925bf64d",
       "value": " 578/578 [00:00&lt;00:00, 49.0kB/s]"
      }
     },
     "27fa300c4b634e13ab9be882c084605a": {
      "model_module": "@jupyter-widgets/controls",
      "model_module_version": "1.5.0",
      "model_name": "HBoxModel",
      "state": {
       "_dom_classes": [],
       "_model_module": "@jupyter-widgets/controls",
       "_model_module_version": "1.5.0",
       "_model_name": "HBoxModel",
       "_view_count": null,
       "_view_module": "@jupyter-widgets/controls",
       "_view_module_version": "1.5.0",
       "_view_name": "HBoxView",
       "box_style": "",
       "children": [
        "IPY_MODEL_9b103d0d1e36426b9f9b0d1fc81d6ced",
        "IPY_MODEL_f74dc7fd318741f692af35d017d74783",
        "IPY_MODEL_2421f12d51864713a7a25f99e666cc28"
       ],
       "layout": "IPY_MODEL_60fa715a903049f69bafa005029c7440"
      }
     },
     "2a9ed327087f446c9a78c2516ae2373f": {
      "model_module": "@jupyter-widgets/controls",
      "model_module_version": "1.5.0",
      "model_name": "DescriptionStyleModel",
      "state": {
       "_model_module": "@jupyter-widgets/controls",
       "_model_module_version": "1.5.0",
       "_model_name": "DescriptionStyleModel",
       "_view_count": null,
       "_view_module": "@jupyter-widgets/base",
       "_view_module_version": "1.2.0",
       "_view_name": "StyleView",
       "description_width": ""
      }
     },
     "2abb118ad5834baab1ad01f6c25de8cc": {
      "model_module": "@jupyter-widgets/controls",
      "model_module_version": "1.5.0",
      "model_name": "ProgressStyleModel",
      "state": {
       "_model_module": "@jupyter-widgets/controls",
       "_model_module_version": "1.5.0",
       "_model_name": "ProgressStyleModel",
       "_view_count": null,
       "_view_module": "@jupyter-widgets/base",
       "_view_module_version": "1.2.0",
       "_view_name": "StyleView",
       "bar_color": null,
       "description_width": ""
      }
     },
     "33736bbd80f9416b8fe855c7ce3339d1": {
      "model_module": "@jupyter-widgets/controls",
      "model_module_version": "1.5.0",
      "model_name": "HBoxModel",
      "state": {
       "_dom_classes": [],
       "_model_module": "@jupyter-widgets/controls",
       "_model_module_version": "1.5.0",
       "_model_name": "HBoxModel",
       "_view_count": null,
       "_view_module": "@jupyter-widgets/controls",
       "_view_module_version": "1.5.0",
       "_view_name": "HBoxView",
       "box_style": "",
       "children": [
        "IPY_MODEL_4493570826684724a56e91c9833a705d",
        "IPY_MODEL_7b320e3e169e40a9aabf76b6adce45e5",
        "IPY_MODEL_a7f142f32d6d4972a11cd4d149318b82"
       ],
       "layout": "IPY_MODEL_471e34ef6fcb45a69c1d522aebe0282a"
      }
     },
     "43dab9df25fc443da845cc619f4a0a61": {
      "model_module": "@jupyter-widgets/base",
      "model_module_version": "1.2.0",
      "model_name": "LayoutModel",
      "state": {
       "_model_module": "@jupyter-widgets/base",
       "_model_module_version": "1.2.0",
       "_model_name": "LayoutModel",
       "_view_count": null,
       "_view_module": "@jupyter-widgets/base",
       "_view_module_version": "1.2.0",
       "_view_name": "LayoutView",
       "align_content": null,
       "align_items": null,
       "align_self": null,
       "border": null,
       "bottom": null,
       "display": null,
       "flex": null,
       "flex_flow": null,
       "grid_area": null,
       "grid_auto_columns": null,
       "grid_auto_flow": null,
       "grid_auto_rows": null,
       "grid_column": null,
       "grid_gap": null,
       "grid_row": null,
       "grid_template_areas": null,
       "grid_template_columns": null,
       "grid_template_rows": null,
       "height": null,
       "justify_content": null,
       "justify_items": null,
       "left": null,
       "margin": null,
       "max_height": null,
       "max_width": null,
       "min_height": null,
       "min_width": null,
       "object_fit": null,
       "object_position": null,
       "order": null,
       "overflow": null,
       "overflow_x": null,
       "overflow_y": null,
       "padding": null,
       "right": null,
       "top": null,
       "visibility": null,
       "width": null
      }
     },
     "4493570826684724a56e91c9833a705d": {
      "model_module": "@jupyter-widgets/controls",
      "model_module_version": "1.5.0",
      "model_name": "HTMLModel",
      "state": {
       "_dom_classes": [],
       "_model_module": "@jupyter-widgets/controls",
       "_model_module_version": "1.5.0",
       "_model_name": "HTMLModel",
       "_view_count": null,
       "_view_module": "@jupyter-widgets/controls",
       "_view_module_version": "1.5.0",
       "_view_name": "HTMLView",
       "description": "",
       "description_tooltip": null,
       "layout": "IPY_MODEL_daba2dea65ed4da49e6aa7320bbf7529",
       "placeholder": "​",
       "style": "IPY_MODEL_2a9ed327087f446c9a78c2516ae2373f",
       "value": "pytorch_model.bin: 100%"
      }
     },
     "471e34ef6fcb45a69c1d522aebe0282a": {
      "model_module": "@jupyter-widgets/base",
      "model_module_version": "1.2.0",
      "model_name": "LayoutModel",
      "state": {
       "_model_module": "@jupyter-widgets/base",
       "_model_module_version": "1.2.0",
       "_model_name": "LayoutModel",
       "_view_count": null,
       "_view_module": "@jupyter-widgets/base",
       "_view_module_version": "1.2.0",
       "_view_name": "LayoutView",
       "align_content": null,
       "align_items": null,
       "align_self": null,
       "border": null,
       "bottom": null,
       "display": null,
       "flex": null,
       "flex_flow": null,
       "grid_area": null,
       "grid_auto_columns": null,
       "grid_auto_flow": null,
       "grid_auto_rows": null,
       "grid_column": null,
       "grid_gap": null,
       "grid_row": null,
       "grid_template_areas": null,
       "grid_template_columns": null,
       "grid_template_rows": null,
       "height": null,
       "justify_content": null,
       "justify_items": null,
       "left": null,
       "margin": null,
       "max_height": null,
       "max_width": null,
       "min_height": null,
       "min_width": null,
       "object_fit": null,
       "object_position": null,
       "order": null,
       "overflow": null,
       "overflow_x": null,
       "overflow_y": null,
       "padding": null,
       "right": null,
       "top": null,
       "visibility": null,
       "width": null
      }
     },
     "486fce75bee94d22889496da01ab14d6": {
      "model_module": "@jupyter-widgets/controls",
      "model_module_version": "1.5.0",
      "model_name": "HBoxModel",
      "state": {
       "_dom_classes": [],
       "_model_module": "@jupyter-widgets/controls",
       "_model_module_version": "1.5.0",
       "_model_name": "HBoxModel",
       "_view_count": null,
       "_view_module": "@jupyter-widgets/controls",
       "_view_module_version": "1.5.0",
       "_view_name": "HBoxView",
       "box_style": "",
       "children": [
        "IPY_MODEL_bad7f062098240e4bf5dc8231c19a41f",
        "IPY_MODEL_77f67093089842f18e6be3fb0ad0ec10",
        "IPY_MODEL_fd24246d2f5e4df3b1a2b3bec8f9c9bf"
       ],
       "layout": "IPY_MODEL_734503935f964427ab29c538decbf5a1"
      }
     },
     "5127a1b979374142bfc78cb7f16570ac": {
      "model_module": "@jupyter-widgets/base",
      "model_module_version": "1.2.0",
      "model_name": "LayoutModel",
      "state": {
       "_model_module": "@jupyter-widgets/base",
       "_model_module_version": "1.2.0",
       "_model_name": "LayoutModel",
       "_view_count": null,
       "_view_module": "@jupyter-widgets/base",
       "_view_module_version": "1.2.0",
       "_view_name": "LayoutView",
       "align_content": null,
       "align_items": null,
       "align_self": null,
       "border": null,
       "bottom": null,
       "display": null,
       "flex": null,
       "flex_flow": null,
       "grid_area": null,
       "grid_auto_columns": null,
       "grid_auto_flow": null,
       "grid_auto_rows": null,
       "grid_column": null,
       "grid_gap": null,
       "grid_row": null,
       "grid_template_areas": null,
       "grid_template_columns": null,
       "grid_template_rows": null,
       "height": null,
       "justify_content": null,
       "justify_items": null,
       "left": null,
       "margin": null,
       "max_height": null,
       "max_width": null,
       "min_height": null,
       "min_width": null,
       "object_fit": null,
       "object_position": null,
       "order": null,
       "overflow": null,
       "overflow_x": null,
       "overflow_y": null,
       "padding": null,
       "right": null,
       "top": null,
       "visibility": null,
       "width": null
      }
     },
     "5c0d5be85d4647afa7dfd16813e9d51f": {
      "model_module": "@jupyter-widgets/base",
      "model_module_version": "1.2.0",
      "model_name": "LayoutModel",
      "state": {
       "_model_module": "@jupyter-widgets/base",
       "_model_module_version": "1.2.0",
       "_model_name": "LayoutModel",
       "_view_count": null,
       "_view_module": "@jupyter-widgets/base",
       "_view_module_version": "1.2.0",
       "_view_name": "LayoutView",
       "align_content": null,
       "align_items": null,
       "align_self": null,
       "border": null,
       "bottom": null,
       "display": null,
       "flex": null,
       "flex_flow": null,
       "grid_area": null,
       "grid_auto_columns": null,
       "grid_auto_flow": null,
       "grid_auto_rows": null,
       "grid_column": null,
       "grid_gap": null,
       "grid_row": null,
       "grid_template_areas": null,
       "grid_template_columns": null,
       "grid_template_rows": null,
       "height": null,
       "justify_content": null,
       "justify_items": null,
       "left": null,
       "margin": null,
       "max_height": null,
       "max_width": null,
       "min_height": null,
       "min_width": null,
       "object_fit": null,
       "object_position": null,
       "order": null,
       "overflow": null,
       "overflow_x": null,
       "overflow_y": null,
       "padding": null,
       "right": null,
       "top": null,
       "visibility": null,
       "width": null
      }
     },
     "60fa715a903049f69bafa005029c7440": {
      "model_module": "@jupyter-widgets/base",
      "model_module_version": "1.2.0",
      "model_name": "LayoutModel",
      "state": {
       "_model_module": "@jupyter-widgets/base",
       "_model_module_version": "1.2.0",
       "_model_name": "LayoutModel",
       "_view_count": null,
       "_view_module": "@jupyter-widgets/base",
       "_view_module_version": "1.2.0",
       "_view_name": "LayoutView",
       "align_content": null,
       "align_items": null,
       "align_self": null,
       "border": null,
       "bottom": null,
       "display": null,
       "flex": null,
       "flex_flow": null,
       "grid_area": null,
       "grid_auto_columns": null,
       "grid_auto_flow": null,
       "grid_auto_rows": null,
       "grid_column": null,
       "grid_gap": null,
       "grid_row": null,
       "grid_template_areas": null,
       "grid_template_columns": null,
       "grid_template_rows": null,
       "height": null,
       "justify_content": null,
       "justify_items": null,
       "left": null,
       "margin": null,
       "max_height": null,
       "max_width": null,
       "min_height": null,
       "min_width": null,
       "object_fit": null,
       "object_position": null,
       "order": null,
       "overflow": null,
       "overflow_x": null,
       "overflow_y": null,
       "padding": null,
       "right": null,
       "top": null,
       "visibility": null,
       "width": null
      }
     },
     "63947ab948d448198f6c128bca5a9f2b": {
      "model_module": "@jupyter-widgets/base",
      "model_module_version": "1.2.0",
      "model_name": "LayoutModel",
      "state": {
       "_model_module": "@jupyter-widgets/base",
       "_model_module_version": "1.2.0",
       "_model_name": "LayoutModel",
       "_view_count": null,
       "_view_module": "@jupyter-widgets/base",
       "_view_module_version": "1.2.0",
       "_view_name": "LayoutView",
       "align_content": null,
       "align_items": null,
       "align_self": null,
       "border": null,
       "bottom": null,
       "display": null,
       "flex": null,
       "flex_flow": null,
       "grid_area": null,
       "grid_auto_columns": null,
       "grid_auto_flow": null,
       "grid_auto_rows": null,
       "grid_column": null,
       "grid_gap": null,
       "grid_row": null,
       "grid_template_areas": null,
       "grid_template_columns": null,
       "grid_template_rows": null,
       "height": null,
       "justify_content": null,
       "justify_items": null,
       "left": null,
       "margin": null,
       "max_height": null,
       "max_width": null,
       "min_height": null,
       "min_width": null,
       "object_fit": null,
       "object_position": null,
       "order": null,
       "overflow": null,
       "overflow_x": null,
       "overflow_y": null,
       "padding": null,
       "right": null,
       "top": null,
       "visibility": null,
       "width": null
      }
     },
     "6c1e80e5e2c04fd2b327cb4d250ce857": {
      "model_module": "@jupyter-widgets/controls",
      "model_module_version": "1.5.0",
      "model_name": "HTMLModel",
      "state": {
       "_dom_classes": [],
       "_model_module": "@jupyter-widgets/controls",
       "_model_module_version": "1.5.0",
       "_model_name": "HTMLModel",
       "_view_count": null,
       "_view_module": "@jupyter-widgets/controls",
       "_view_module_version": "1.5.0",
       "_view_name": "HTMLView",
       "description": "",
       "description_tooltip": null,
       "layout": "IPY_MODEL_dfd5c9b035c14f0db0994f7225816f03",
       "placeholder": "​",
       "style": "IPY_MODEL_cedbb73ae65b476abf441f5e5797001b",
       "value": "tokenizer_config.json: 100%"
      }
     },
     "734503935f964427ab29c538decbf5a1": {
      "model_module": "@jupyter-widgets/base",
      "model_module_version": "1.2.0",
      "model_name": "LayoutModel",
      "state": {
       "_model_module": "@jupyter-widgets/base",
       "_model_module_version": "1.2.0",
       "_model_name": "LayoutModel",
       "_view_count": null,
       "_view_module": "@jupyter-widgets/base",
       "_view_module_version": "1.2.0",
       "_view_name": "LayoutView",
       "align_content": null,
       "align_items": null,
       "align_self": null,
       "border": null,
       "bottom": null,
       "display": null,
       "flex": null,
       "flex_flow": null,
       "grid_area": null,
       "grid_auto_columns": null,
       "grid_auto_flow": null,
       "grid_auto_rows": null,
       "grid_column": null,
       "grid_gap": null,
       "grid_row": null,
       "grid_template_areas": null,
       "grid_template_columns": null,
       "grid_template_rows": null,
       "height": null,
       "justify_content": null,
       "justify_items": null,
       "left": null,
       "margin": null,
       "max_height": null,
       "max_width": null,
       "min_height": null,
       "min_width": null,
       "object_fit": null,
       "object_position": null,
       "order": null,
       "overflow": null,
       "overflow_x": null,
       "overflow_y": null,
       "padding": null,
       "right": null,
       "top": null,
       "visibility": null,
       "width": null
      }
     },
     "73d13d92395e4a1eaed012c6566a1389": {
      "model_module": "@jupyter-widgets/controls",
      "model_module_version": "1.5.0",
      "model_name": "DescriptionStyleModel",
      "state": {
       "_model_module": "@jupyter-widgets/controls",
       "_model_module_version": "1.5.0",
       "_model_name": "DescriptionStyleModel",
       "_view_count": null,
       "_view_module": "@jupyter-widgets/base",
       "_view_module_version": "1.2.0",
       "_view_name": "StyleView",
       "description_width": ""
      }
     },
     "77f67093089842f18e6be3fb0ad0ec10": {
      "model_module": "@jupyter-widgets/controls",
      "model_module_version": "1.5.0",
      "model_name": "FloatProgressModel",
      "state": {
       "_dom_classes": [],
       "_model_module": "@jupyter-widgets/controls",
       "_model_module_version": "1.5.0",
       "_model_name": "FloatProgressModel",
       "_view_count": null,
       "_view_module": "@jupyter-widgets/controls",
       "_view_module_version": "1.5.0",
       "_view_name": "ProgressView",
       "bar_style": "success",
       "description": "",
       "description_tooltip": null,
       "layout": "IPY_MODEL_0208f80411f7459f9743df03e543f520",
       "max": 2464616.0,
       "min": 0.0,
       "orientation": "horizontal",
       "style": "IPY_MODEL_885edbacd56f468b90a2e799da3d89a1",
       "value": 2464616.0
      }
     },
     "7b320e3e169e40a9aabf76b6adce45e5": {
      "model_module": "@jupyter-widgets/controls",
      "model_module_version": "1.5.0",
      "model_name": "FloatProgressModel",
      "state": {
       "_dom_classes": [],
       "_model_module": "@jupyter-widgets/controls",
       "_model_module_version": "1.5.0",
       "_model_name": "FloatProgressModel",
       "_view_count": null,
       "_view_module": "@jupyter-widgets/controls",
       "_view_module_version": "1.5.0",
       "_view_name": "ProgressView",
       "bar_style": "success",
       "description": "",
       "description_tooltip": null,
       "layout": "IPY_MODEL_9f5820ecc6704108b659ea08719aba9e",
       "max": 286059269.0,
       "min": 0.0,
       "orientation": "horizontal",
       "style": "IPY_MODEL_2abb118ad5834baab1ad01f6c25de8cc",
       "value": 286059269.0
      }
     },
     "7e7c7665c43148fb9647b7a153a69ba3": {
      "model_module": "@jupyter-widgets/controls",
      "model_module_version": "1.5.0",
      "model_name": "DescriptionStyleModel",
      "state": {
       "_model_module": "@jupyter-widgets/controls",
       "_model_module_version": "1.5.0",
       "_model_name": "DescriptionStyleModel",
       "_view_count": null,
       "_view_module": "@jupyter-widgets/base",
       "_view_module_version": "1.2.0",
       "_view_name": "StyleView",
       "description_width": ""
      }
     },
     "8113a07092ac4c8cb05413fd925bf64d": {
      "model_module": "@jupyter-widgets/controls",
      "model_module_version": "1.5.0",
      "model_name": "DescriptionStyleModel",
      "state": {
       "_model_module": "@jupyter-widgets/controls",
       "_model_module_version": "1.5.0",
       "_model_name": "DescriptionStyleModel",
       "_view_count": null,
       "_view_module": "@jupyter-widgets/base",
       "_view_module_version": "1.2.0",
       "_view_name": "StyleView",
       "description_width": ""
      }
     },
     "885edbacd56f468b90a2e799da3d89a1": {
      "model_module": "@jupyter-widgets/controls",
      "model_module_version": "1.5.0",
      "model_name": "ProgressStyleModel",
      "state": {
       "_model_module": "@jupyter-widgets/controls",
       "_model_module_version": "1.5.0",
       "_model_name": "ProgressStyleModel",
       "_view_count": null,
       "_view_module": "@jupyter-widgets/base",
       "_view_module_version": "1.2.0",
       "_view_name": "StyleView",
       "bar_color": null,
       "description_width": ""
      }
     },
     "90fc5354b5f8449f87f4928a6f71b092": {
      "model_module": "@jupyter-widgets/controls",
      "model_module_version": "1.5.0",
      "model_name": "FloatProgressModel",
      "state": {
       "_dom_classes": [],
       "_model_module": "@jupyter-widgets/controls",
       "_model_module_version": "1.5.0",
       "_model_name": "FloatProgressModel",
       "_view_count": null,
       "_view_module": "@jupyter-widgets/controls",
       "_view_module_version": "1.5.0",
       "_view_name": "ProgressView",
       "bar_style": "success",
       "description": "",
       "description_tooltip": null,
       "layout": "IPY_MODEL_43dab9df25fc443da845cc619f4a0a61",
       "max": 52.0,
       "min": 0.0,
       "orientation": "horizontal",
       "style": "IPY_MODEL_9552f4cae026459995f46b3c3a14899e",
       "value": 52.0
      }
     },
     "9552f4cae026459995f46b3c3a14899e": {
      "model_module": "@jupyter-widgets/controls",
      "model_module_version": "1.5.0",
      "model_name": "ProgressStyleModel",
      "state": {
       "_model_module": "@jupyter-widgets/controls",
       "_model_module_version": "1.5.0",
       "_model_name": "ProgressStyleModel",
       "_view_count": null,
       "_view_module": "@jupyter-widgets/base",
       "_view_module_version": "1.2.0",
       "_view_name": "StyleView",
       "bar_color": null,
       "description_width": ""
      }
     },
     "9b103d0d1e36426b9f9b0d1fc81d6ced": {
      "model_module": "@jupyter-widgets/controls",
      "model_module_version": "1.5.0",
      "model_name": "HTMLModel",
      "state": {
       "_dom_classes": [],
       "_model_module": "@jupyter-widgets/controls",
       "_model_module_version": "1.5.0",
       "_model_name": "HTMLModel",
       "_view_count": null,
       "_view_module": "@jupyter-widgets/controls",
       "_view_module_version": "1.5.0",
       "_view_name": "HTMLView",
       "description": "",
       "description_tooltip": null,
       "layout": "IPY_MODEL_088bd3f2672b48babe6c82e6edf82622",
       "placeholder": "​",
       "style": "IPY_MODEL_fd53ac17288745df9f1c281d769ae34c",
       "value": "config.json: 100%"
      }
     },
     "9f5820ecc6704108b659ea08719aba9e": {
      "model_module": "@jupyter-widgets/base",
      "model_module_version": "1.2.0",
      "model_name": "LayoutModel",
      "state": {
       "_model_module": "@jupyter-widgets/base",
       "_model_module_version": "1.2.0",
       "_model_name": "LayoutModel",
       "_view_count": null,
       "_view_module": "@jupyter-widgets/base",
       "_view_module_version": "1.2.0",
       "_view_name": "LayoutView",
       "align_content": null,
       "align_items": null,
       "align_self": null,
       "border": null,
       "bottom": null,
       "display": null,
       "flex": null,
       "flex_flow": null,
       "grid_area": null,
       "grid_auto_columns": null,
       "grid_auto_flow": null,
       "grid_auto_rows": null,
       "grid_column": null,
       "grid_gap": null,
       "grid_row": null,
       "grid_template_areas": null,
       "grid_template_columns": null,
       "grid_template_rows": null,
       "height": null,
       "justify_content": null,
       "justify_items": null,
       "left": null,
       "margin": null,
       "max_height": null,
       "max_width": null,
       "min_height": null,
       "min_width": null,
       "object_fit": null,
       "object_position": null,
       "order": null,
       "overflow": null,
       "overflow_x": null,
       "overflow_y": null,
       "padding": null,
       "right": null,
       "top": null,
       "visibility": null,
       "width": null
      }
     },
     "a7f142f32d6d4972a11cd4d149318b82": {
      "model_module": "@jupyter-widgets/controls",
      "model_module_version": "1.5.0",
      "model_name": "HTMLModel",
      "state": {
       "_dom_classes": [],
       "_model_module": "@jupyter-widgets/controls",
       "_model_module_version": "1.5.0",
       "_model_name": "HTMLModel",
       "_view_count": null,
       "_view_module": "@jupyter-widgets/controls",
       "_view_module_version": "1.5.0",
       "_view_name": "HTMLView",
       "description": "",
       "description_tooltip": null,
       "layout": "IPY_MODEL_0584f84ad212457bb201bcd846f6cd02",
       "placeholder": "​",
       "style": "IPY_MODEL_d8a15ef0ba534a6b851d617f88132693",
       "value": " 286M/286M [00:03&lt;00:00, 210MB/s]"
      }
     },
     "aa17642513644a6386e4df2ed07ee138": {
      "model_module": "@jupyter-widgets/controls",
      "model_module_version": "1.5.0",
      "model_name": "HBoxModel",
      "state": {
       "_dom_classes": [],
       "_model_module": "@jupyter-widgets/controls",
       "_model_module_version": "1.5.0",
       "_model_name": "HBoxModel",
       "_view_count": null,
       "_view_module": "@jupyter-widgets/controls",
       "_view_module_version": "1.5.0",
       "_view_name": "HBoxView",
       "box_style": "",
       "children": [
        "IPY_MODEL_6c1e80e5e2c04fd2b327cb4d250ce857",
        "IPY_MODEL_90fc5354b5f8449f87f4928a6f71b092",
        "IPY_MODEL_e0866f50e5df4def904ac94c881e0b6e"
       ],
       "layout": "IPY_MODEL_c355e38ca6694a5889138385cb667a49"
      }
     },
     "aac95cef279d4cd7bacdb7f60aa1ced9": {
      "model_module": "@jupyter-widgets/controls",
      "model_module_version": "1.5.0",
      "model_name": "DescriptionStyleModel",
      "state": {
       "_model_module": "@jupyter-widgets/controls",
       "_model_module_version": "1.5.0",
       "_model_name": "DescriptionStyleModel",
       "_view_count": null,
       "_view_module": "@jupyter-widgets/base",
       "_view_module_version": "1.2.0",
       "_view_name": "StyleView",
       "description_width": ""
      }
     },
     "b09ea1272c9a46e787b24127914b2c79": {
      "model_module": "@jupyter-widgets/controls",
      "model_module_version": "1.5.0",
      "model_name": "ProgressStyleModel",
      "state": {
       "_model_module": "@jupyter-widgets/controls",
       "_model_module_version": "1.5.0",
       "_model_name": "ProgressStyleModel",
       "_view_count": null,
       "_view_module": "@jupyter-widgets/base",
       "_view_module_version": "1.2.0",
       "_view_name": "StyleView",
       "bar_color": null,
       "description_width": ""
      }
     },
     "bad7f062098240e4bf5dc8231c19a41f": {
      "model_module": "@jupyter-widgets/controls",
      "model_module_version": "1.5.0",
      "model_name": "HTMLModel",
      "state": {
       "_dom_classes": [],
       "_model_module": "@jupyter-widgets/controls",
       "_model_module_version": "1.5.0",
       "_model_name": "HTMLModel",
       "_view_count": null,
       "_view_module": "@jupyter-widgets/controls",
       "_view_module_version": "1.5.0",
       "_view_name": "HTMLView",
       "description": "",
       "description_tooltip": null,
       "layout": "IPY_MODEL_df4a20fffc9d449ebeafcab5e978040a",
       "placeholder": "​",
       "style": "IPY_MODEL_73d13d92395e4a1eaed012c6566a1389",
       "value": "spm.model: 100%"
      }
     },
     "c355e38ca6694a5889138385cb667a49": {
      "model_module": "@jupyter-widgets/base",
      "model_module_version": "1.2.0",
      "model_name": "LayoutModel",
      "state": {
       "_model_module": "@jupyter-widgets/base",
       "_model_module_version": "1.2.0",
       "_model_name": "LayoutModel",
       "_view_count": null,
       "_view_module": "@jupyter-widgets/base",
       "_view_module_version": "1.2.0",
       "_view_name": "LayoutView",
       "align_content": null,
       "align_items": null,
       "align_self": null,
       "border": null,
       "bottom": null,
       "display": null,
       "flex": null,
       "flex_flow": null,
       "grid_area": null,
       "grid_auto_columns": null,
       "grid_auto_flow": null,
       "grid_auto_rows": null,
       "grid_column": null,
       "grid_gap": null,
       "grid_row": null,
       "grid_template_areas": null,
       "grid_template_columns": null,
       "grid_template_rows": null,
       "height": null,
       "justify_content": null,
       "justify_items": null,
       "left": null,
       "margin": null,
       "max_height": null,
       "max_width": null,
       "min_height": null,
       "min_width": null,
       "object_fit": null,
       "object_position": null,
       "order": null,
       "overflow": null,
       "overflow_x": null,
       "overflow_y": null,
       "padding": null,
       "right": null,
       "top": null,
       "visibility": null,
       "width": null
      }
     },
     "cedbb73ae65b476abf441f5e5797001b": {
      "model_module": "@jupyter-widgets/controls",
      "model_module_version": "1.5.0",
      "model_name": "DescriptionStyleModel",
      "state": {
       "_model_module": "@jupyter-widgets/controls",
       "_model_module_version": "1.5.0",
       "_model_name": "DescriptionStyleModel",
       "_view_count": null,
       "_view_module": "@jupyter-widgets/base",
       "_view_module_version": "1.2.0",
       "_view_name": "StyleView",
       "description_width": ""
      }
     },
     "d8a15ef0ba534a6b851d617f88132693": {
      "model_module": "@jupyter-widgets/controls",
      "model_module_version": "1.5.0",
      "model_name": "DescriptionStyleModel",
      "state": {
       "_model_module": "@jupyter-widgets/controls",
       "_model_module_version": "1.5.0",
       "_model_name": "DescriptionStyleModel",
       "_view_count": null,
       "_view_module": "@jupyter-widgets/base",
       "_view_module_version": "1.2.0",
       "_view_name": "StyleView",
       "description_width": ""
      }
     },
     "daba2dea65ed4da49e6aa7320bbf7529": {
      "model_module": "@jupyter-widgets/base",
      "model_module_version": "1.2.0",
      "model_name": "LayoutModel",
      "state": {
       "_model_module": "@jupyter-widgets/base",
       "_model_module_version": "1.2.0",
       "_model_name": "LayoutModel",
       "_view_count": null,
       "_view_module": "@jupyter-widgets/base",
       "_view_module_version": "1.2.0",
       "_view_name": "LayoutView",
       "align_content": null,
       "align_items": null,
       "align_self": null,
       "border": null,
       "bottom": null,
       "display": null,
       "flex": null,
       "flex_flow": null,
       "grid_area": null,
       "grid_auto_columns": null,
       "grid_auto_flow": null,
       "grid_auto_rows": null,
       "grid_column": null,
       "grid_gap": null,
       "grid_row": null,
       "grid_template_areas": null,
       "grid_template_columns": null,
       "grid_template_rows": null,
       "height": null,
       "justify_content": null,
       "justify_items": null,
       "left": null,
       "margin": null,
       "max_height": null,
       "max_width": null,
       "min_height": null,
       "min_width": null,
       "object_fit": null,
       "object_position": null,
       "order": null,
       "overflow": null,
       "overflow_x": null,
       "overflow_y": null,
       "padding": null,
       "right": null,
       "top": null,
       "visibility": null,
       "width": null
      }
     },
     "df4a20fffc9d449ebeafcab5e978040a": {
      "model_module": "@jupyter-widgets/base",
      "model_module_version": "1.2.0",
      "model_name": "LayoutModel",
      "state": {
       "_model_module": "@jupyter-widgets/base",
       "_model_module_version": "1.2.0",
       "_model_name": "LayoutModel",
       "_view_count": null,
       "_view_module": "@jupyter-widgets/base",
       "_view_module_version": "1.2.0",
       "_view_name": "LayoutView",
       "align_content": null,
       "align_items": null,
       "align_self": null,
       "border": null,
       "bottom": null,
       "display": null,
       "flex": null,
       "flex_flow": null,
       "grid_area": null,
       "grid_auto_columns": null,
       "grid_auto_flow": null,
       "grid_auto_rows": null,
       "grid_column": null,
       "grid_gap": null,
       "grid_row": null,
       "grid_template_areas": null,
       "grid_template_columns": null,
       "grid_template_rows": null,
       "height": null,
       "justify_content": null,
       "justify_items": null,
       "left": null,
       "margin": null,
       "max_height": null,
       "max_width": null,
       "min_height": null,
       "min_width": null,
       "object_fit": null,
       "object_position": null,
       "order": null,
       "overflow": null,
       "overflow_x": null,
       "overflow_y": null,
       "padding": null,
       "right": null,
       "top": null,
       "visibility": null,
       "width": null
      }
     },
     "dfd5c9b035c14f0db0994f7225816f03": {
      "model_module": "@jupyter-widgets/base",
      "model_module_version": "1.2.0",
      "model_name": "LayoutModel",
      "state": {
       "_model_module": "@jupyter-widgets/base",
       "_model_module_version": "1.2.0",
       "_model_name": "LayoutModel",
       "_view_count": null,
       "_view_module": "@jupyter-widgets/base",
       "_view_module_version": "1.2.0",
       "_view_name": "LayoutView",
       "align_content": null,
       "align_items": null,
       "align_self": null,
       "border": null,
       "bottom": null,
       "display": null,
       "flex": null,
       "flex_flow": null,
       "grid_area": null,
       "grid_auto_columns": null,
       "grid_auto_flow": null,
       "grid_auto_rows": null,
       "grid_column": null,
       "grid_gap": null,
       "grid_row": null,
       "grid_template_areas": null,
       "grid_template_columns": null,
       "grid_template_rows": null,
       "height": null,
       "justify_content": null,
       "justify_items": null,
       "left": null,
       "margin": null,
       "max_height": null,
       "max_width": null,
       "min_height": null,
       "min_width": null,
       "object_fit": null,
       "object_position": null,
       "order": null,
       "overflow": null,
       "overflow_x": null,
       "overflow_y": null,
       "padding": null,
       "right": null,
       "top": null,
       "visibility": null,
       "width": null
      }
     },
     "e0866f50e5df4def904ac94c881e0b6e": {
      "model_module": "@jupyter-widgets/controls",
      "model_module_version": "1.5.0",
      "model_name": "HTMLModel",
      "state": {
       "_dom_classes": [],
       "_model_module": "@jupyter-widgets/controls",
       "_model_module_version": "1.5.0",
       "_model_name": "HTMLModel",
       "_view_count": null,
       "_view_module": "@jupyter-widgets/controls",
       "_view_module_version": "1.5.0",
       "_view_name": "HTMLView",
       "description": "",
       "description_tooltip": null,
       "layout": "IPY_MODEL_5c0d5be85d4647afa7dfd16813e9d51f",
       "placeholder": "​",
       "style": "IPY_MODEL_7e7c7665c43148fb9647b7a153a69ba3",
       "value": " 52.0/52.0 [00:00&lt;00:00, 3.85kB/s]"
      }
     },
     "e7fd3419c05c4c45ac51f099cd16fc45": {
      "model_module": "@jupyter-widgets/base",
      "model_module_version": "1.2.0",
      "model_name": "LayoutModel",
      "state": {
       "_model_module": "@jupyter-widgets/base",
       "_model_module_version": "1.2.0",
       "_model_name": "LayoutModel",
       "_view_count": null,
       "_view_module": "@jupyter-widgets/base",
       "_view_module_version": "1.2.0",
       "_view_name": "LayoutView",
       "align_content": null,
       "align_items": null,
       "align_self": null,
       "border": null,
       "bottom": null,
       "display": null,
       "flex": null,
       "flex_flow": null,
       "grid_area": null,
       "grid_auto_columns": null,
       "grid_auto_flow": null,
       "grid_auto_rows": null,
       "grid_column": null,
       "grid_gap": null,
       "grid_row": null,
       "grid_template_areas": null,
       "grid_template_columns": null,
       "grid_template_rows": null,
       "height": null,
       "justify_content": null,
       "justify_items": null,
       "left": null,
       "margin": null,
       "max_height": null,
       "max_width": null,
       "min_height": null,
       "min_width": null,
       "object_fit": null,
       "object_position": null,
       "order": null,
       "overflow": null,
       "overflow_x": null,
       "overflow_y": null,
       "padding": null,
       "right": null,
       "top": null,
       "visibility": null,
       "width": null
      }
     },
     "f74dc7fd318741f692af35d017d74783": {
      "model_module": "@jupyter-widgets/controls",
      "model_module_version": "1.5.0",
      "model_name": "FloatProgressModel",
      "state": {
       "_dom_classes": [],
       "_model_module": "@jupyter-widgets/controls",
       "_model_module_version": "1.5.0",
       "_model_name": "FloatProgressModel",
       "_view_count": null,
       "_view_module": "@jupyter-widgets/controls",
       "_view_module_version": "1.5.0",
       "_view_name": "ProgressView",
       "bar_style": "success",
       "description": "",
       "description_tooltip": null,
       "layout": "IPY_MODEL_5127a1b979374142bfc78cb7f16570ac",
       "max": 578.0,
       "min": 0.0,
       "orientation": "horizontal",
       "style": "IPY_MODEL_b09ea1272c9a46e787b24127914b2c79",
       "value": 578.0
      }
     },
     "fd24246d2f5e4df3b1a2b3bec8f9c9bf": {
      "model_module": "@jupyter-widgets/controls",
      "model_module_version": "1.5.0",
      "model_name": "HTMLModel",
      "state": {
       "_dom_classes": [],
       "_model_module": "@jupyter-widgets/controls",
       "_model_module_version": "1.5.0",
       "_model_name": "HTMLModel",
       "_view_count": null,
       "_view_module": "@jupyter-widgets/controls",
       "_view_module_version": "1.5.0",
       "_view_name": "HTMLView",
       "description": "",
       "description_tooltip": null,
       "layout": "IPY_MODEL_e7fd3419c05c4c45ac51f099cd16fc45",
       "placeholder": "​",
       "style": "IPY_MODEL_aac95cef279d4cd7bacdb7f60aa1ced9",
       "value": " 2.46M/2.46M [00:00&lt;00:00, 6.78MB/s]"
      }
     },
     "fd53ac17288745df9f1c281d769ae34c": {
      "model_module": "@jupyter-widgets/controls",
      "model_module_version": "1.5.0",
      "model_name": "DescriptionStyleModel",
      "state": {
       "_model_module": "@jupyter-widgets/controls",
       "_model_module_version": "1.5.0",
       "_model_name": "DescriptionStyleModel",
       "_view_count": null,
       "_view_module": "@jupyter-widgets/base",
       "_view_module_version": "1.2.0",
       "_view_name": "StyleView",
       "description_width": ""
      }
     }
    },
    "version_major": 2,
    "version_minor": 0
   }
  }
 },
 "nbformat": 4,
 "nbformat_minor": 5
}
