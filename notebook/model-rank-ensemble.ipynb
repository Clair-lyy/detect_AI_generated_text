{
 "cells": [
  {
   "cell_type": "code",
   "execution_count": 1,
   "id": "71a1afd1",
   "metadata": {
    "_cell_guid": "b1076dfc-b9ad-4769-8c92-a6c4dae69d19",
    "_uuid": "8f2839f25d086af736a60e9eeb907d3b93b6e0e5",
    "execution": {
     "iopub.execute_input": "2024-09-25T23:57:32.177297Z",
     "iopub.status.busy": "2024-09-25T23:57:32.176675Z",
     "iopub.status.idle": "2024-09-25T23:57:32.191080Z",
     "shell.execute_reply": "2024-09-25T23:57:32.189811Z"
    },
    "papermill": {
     "duration": 0.028683,
     "end_time": "2024-09-25T23:57:32.193987",
     "exception": false,
     "start_time": "2024-09-25T23:57:32.165304",
     "status": "completed"
    },
    "tags": []
   },
   "outputs": [],
   "source": [
    "import warnings\n",
    "warnings.filterwarnings('ignore')"
   ]
  },
  {
   "cell_type": "markdown",
   "id": "0ae3b78d",
   "metadata": {
    "papermill": {
     "duration": 0.008555,
     "end_time": "2024-09-25T23:57:32.211751",
     "exception": false,
     "start_time": "2024-09-25T23:57:32.203196",
     "status": "completed"
    },
    "tags": []
   },
   "source": [
    "### Model1: TF-IDF + ML Classifier"
   ]
  },
  {
   "cell_type": "code",
   "execution_count": 2,
   "id": "15c3f368",
   "metadata": {
    "execution": {
     "iopub.execute_input": "2024-09-25T23:57:32.231219Z",
     "iopub.status.busy": "2024-09-25T23:57:32.230721Z",
     "iopub.status.idle": "2024-09-25T23:57:42.192655Z",
     "shell.execute_reply": "2024-09-25T23:57:42.191542Z"
    },
    "papermill": {
     "duration": 9.975033,
     "end_time": "2024-09-25T23:57:42.195565",
     "exception": false,
     "start_time": "2024-09-25T23:57:32.220532",
     "status": "completed"
    },
    "tags": []
   },
   "outputs": [],
   "source": [
    "from sklearn.feature_extraction.text import TfidfVectorizer\n",
    "from sklearn.model_selection import StratifiedKFold, train_test_split\n",
    "from sklearn.linear_model import SGDClassifier\n",
    "from sklearn.naive_bayes import MultinomialNB\n",
    "from sklearn.ensemble import VotingClassifier, RandomForestClassifier\n",
    "from sklearn.metrics import roc_auc_score\n",
    "from catboost import CatBoostClassifier\n",
    "from lightgbm import LGBMClassifier\n",
    "\n",
    "\n",
    "from transformers import PreTrainedTokenizerFast\n",
    "from tokenizers import (\n",
    "    decoders,\n",
    "    models,\n",
    "    normalizers,\n",
    "    pre_tokenizers,\n",
    "    processors,\n",
    "    trainers,\n",
    "    Tokenizer,\n",
    ")\n",
    "\n",
    "\n",
    "from datasets import Dataset\n",
    "from tqdm.auto import tqdm\n",
    "import pandas as pd\n",
    "import numpy as np\n",
    "import sys\n",
    "import gc"
   ]
  },
  {
   "cell_type": "code",
   "execution_count": 3,
   "id": "2f0d86d2",
   "metadata": {
    "execution": {
     "iopub.execute_input": "2024-09-25T23:57:42.215427Z",
     "iopub.status.busy": "2024-09-25T23:57:42.214690Z",
     "iopub.status.idle": "2024-09-25T23:57:44.899018Z",
     "shell.execute_reply": "2024-09-25T23:57:44.897789Z"
    },
    "papermill": {
     "duration": 2.697454,
     "end_time": "2024-09-25T23:57:44.901885",
     "exception": false,
     "start_time": "2024-09-25T23:57:42.204431",
     "status": "completed"
    },
    "tags": []
   },
   "outputs": [],
   "source": [
    "test = pd.read_csv('/kaggle/input/llm-detect-ai-generated-text/test_essays.csv')\n",
    "sub = pd.read_csv('/kaggle/input/llm-detect-ai-generated-text/sample_submission.csv')\n",
    "train = pd.read_csv(\"/kaggle/input/daigt-v2-train-dataset/train_v2_drcat_02.csv\", sep=',')"
   ]
  },
  {
   "cell_type": "code",
   "execution_count": 4,
   "id": "51bb0978",
   "metadata": {
    "execution": {
     "iopub.execute_input": "2024-09-25T23:57:44.921760Z",
     "iopub.status.busy": "2024-09-25T23:57:44.921331Z",
     "iopub.status.idle": "2024-09-25T23:57:45.031458Z",
     "shell.execute_reply": "2024-09-25T23:57:45.030041Z"
    },
    "papermill": {
     "duration": 0.12323,
     "end_time": "2024-09-25T23:57:45.034403",
     "exception": false,
     "start_time": "2024-09-25T23:57:44.911173",
     "status": "completed"
    },
    "tags": []
   },
   "outputs": [
    {
     "data": {
      "text/html": [
       "<div>\n",
       "<style scoped>\n",
       "    .dataframe tbody tr th:only-of-type {\n",
       "        vertical-align: middle;\n",
       "    }\n",
       "\n",
       "    .dataframe tbody tr th {\n",
       "        vertical-align: top;\n",
       "    }\n",
       "\n",
       "    .dataframe thead th {\n",
       "        text-align: right;\n",
       "    }\n",
       "</style>\n",
       "<table border=\"1\" class=\"dataframe\">\n",
       "  <thead>\n",
       "    <tr style=\"text-align: right;\">\n",
       "      <th></th>\n",
       "      <th>text</th>\n",
       "      <th>label</th>\n",
       "      <th>prompt_name</th>\n",
       "      <th>source</th>\n",
       "      <th>RDizzl3_seven</th>\n",
       "    </tr>\n",
       "  </thead>\n",
       "  <tbody>\n",
       "    <tr>\n",
       "      <th>0</th>\n",
       "      <td>Phones\\n\\nModern humans today are always on th...</td>\n",
       "      <td>0</td>\n",
       "      <td>Phones and driving</td>\n",
       "      <td>persuade_corpus</td>\n",
       "      <td>False</td>\n",
       "    </tr>\n",
       "    <tr>\n",
       "      <th>1</th>\n",
       "      <td>This essay will explain if drivers should or s...</td>\n",
       "      <td>0</td>\n",
       "      <td>Phones and driving</td>\n",
       "      <td>persuade_corpus</td>\n",
       "      <td>False</td>\n",
       "    </tr>\n",
       "    <tr>\n",
       "      <th>2</th>\n",
       "      <td>Driving while the use of cellular devices\\n\\nT...</td>\n",
       "      <td>0</td>\n",
       "      <td>Phones and driving</td>\n",
       "      <td>persuade_corpus</td>\n",
       "      <td>False</td>\n",
       "    </tr>\n",
       "    <tr>\n",
       "      <th>3</th>\n",
       "      <td>Phones &amp; Driving\\n\\nDrivers should not be able...</td>\n",
       "      <td>0</td>\n",
       "      <td>Phones and driving</td>\n",
       "      <td>persuade_corpus</td>\n",
       "      <td>False</td>\n",
       "    </tr>\n",
       "    <tr>\n",
       "      <th>4</th>\n",
       "      <td>Cell Phone Operation While Driving\\n\\nThe abil...</td>\n",
       "      <td>0</td>\n",
       "      <td>Phones and driving</td>\n",
       "      <td>persuade_corpus</td>\n",
       "      <td>False</td>\n",
       "    </tr>\n",
       "  </tbody>\n",
       "</table>\n",
       "</div>"
      ],
      "text/plain": [
       "                                                text  label  \\\n",
       "0  Phones\\n\\nModern humans today are always on th...      0   \n",
       "1  This essay will explain if drivers should or s...      0   \n",
       "2  Driving while the use of cellular devices\\n\\nT...      0   \n",
       "3  Phones & Driving\\n\\nDrivers should not be able...      0   \n",
       "4  Cell Phone Operation While Driving\\n\\nThe abil...      0   \n",
       "\n",
       "          prompt_name           source  RDizzl3_seven  \n",
       "0  Phones and driving  persuade_corpus          False  \n",
       "1  Phones and driving  persuade_corpus          False  \n",
       "2  Phones and driving  persuade_corpus          False  \n",
       "3  Phones and driving  persuade_corpus          False  \n",
       "4  Phones and driving  persuade_corpus          False  "
      ]
     },
     "execution_count": 4,
     "metadata": {},
     "output_type": "execute_result"
    }
   ],
   "source": [
    "train = train.drop_duplicates(subset=['text'])\n",
    "train.reset_index(drop=True, inplace=True)\n",
    "train.head()"
   ]
  },
  {
   "cell_type": "code",
   "execution_count": 5,
   "id": "99225e14",
   "metadata": {
    "execution": {
     "iopub.execute_input": "2024-09-25T23:57:45.056973Z",
     "iopub.status.busy": "2024-09-25T23:57:45.056495Z",
     "iopub.status.idle": "2024-09-25T23:57:45.075346Z",
     "shell.execute_reply": "2024-09-25T23:57:45.074121Z"
    },
    "papermill": {
     "duration": 0.033613,
     "end_time": "2024-09-25T23:57:45.077990",
     "exception": false,
     "start_time": "2024-09-25T23:57:45.044377",
     "status": "completed"
    },
    "tags": []
   },
   "outputs": [],
   "source": [
    "train = train.drop_duplicates(subset=['text'])\n",
    "train.reset_index(drop=True, inplace=True)"
   ]
  },
  {
   "cell_type": "code",
   "execution_count": 6,
   "id": "890edc6d",
   "metadata": {
    "execution": {
     "iopub.execute_input": "2024-09-25T23:57:45.098170Z",
     "iopub.status.busy": "2024-09-25T23:57:45.097746Z",
     "iopub.status.idle": "2024-09-25T23:57:45.103040Z",
     "shell.execute_reply": "2024-09-25T23:57:45.101758Z"
    },
    "papermill": {
     "duration": 0.018912,
     "end_time": "2024-09-25T23:57:45.105918",
     "exception": false,
     "start_time": "2024-09-25T23:57:45.087006",
     "status": "completed"
    },
    "tags": []
   },
   "outputs": [],
   "source": [
    "LOWERCASE = False\n",
    "VOCAB_SIZE = 14_000_000"
   ]
  },
  {
   "cell_type": "code",
   "execution_count": 7,
   "id": "0fdf607a",
   "metadata": {
    "execution": {
     "iopub.execute_input": "2024-09-25T23:57:45.126022Z",
     "iopub.status.busy": "2024-09-25T23:57:45.125606Z",
     "iopub.status.idle": "2024-09-26T00:00:27.069039Z",
     "shell.execute_reply": "2024-09-26T00:00:27.067455Z"
    },
    "papermill": {
     "duration": 161.957229,
     "end_time": "2024-09-26T00:00:27.072622",
     "exception": false,
     "start_time": "2024-09-25T23:57:45.115393",
     "status": "completed"
    },
    "tags": []
   },
   "outputs": [
    {
     "name": "stdout",
     "output_type": "stream",
     "text": [
      "\n",
      "\n",
      "\n"
     ]
    },
    {
     "data": {
      "application/vnd.jupyter.widget-view+json": {
       "model_id": "f94838921e45496f81b5bf19026cf13d",
       "version_major": 2,
       "version_minor": 0
      },
      "text/plain": [
       "  0%|          | 0/3 [00:00<?, ?it/s]"
      ]
     },
     "metadata": {},
     "output_type": "display_data"
    },
    {
     "data": {
      "application/vnd.jupyter.widget-view+json": {
       "model_id": "7dfa970ceef54ec89c7b194d2b6123df",
       "version_major": 2,
       "version_minor": 0
      },
      "text/plain": [
       "  0%|          | 0/44868 [00:00<?, ?it/s]"
      ]
     },
     "metadata": {},
     "output_type": "display_data"
    }
   ],
   "source": [
    "# Creating Byte-Pair Encoding tokenizer\n",
    "raw_tokenizer = Tokenizer(models.BPE(unk_token=\"[UNK]\"))\n",
    "\n",
    "\n",
    "# Adding normalization and pre_tokenizer\n",
    "raw_tokenizer.normalizer = normalizers.Sequence(\n",
    "    [normalizers.NFC()] + [normalizers.Lowercase()] \n",
    "    if LOWERCASE else []\n",
    ")\n",
    "\n",
    "\n",
    "raw_tokenizer.pre_tokenizer = pre_tokenizers.ByteLevel()\n",
    "\n",
    "# Adding special tokens and creating trainer instance\n",
    "special_tokens = [\"[UNK]\", \"[PAD]\", \"[CLS]\", \"[SEP]\", \"[MASK]\"]\n",
    "trainer = trainers.BpeTrainer(\n",
    "    vocab_size=VOCAB_SIZE, \n",
    "    special_tokens=special_tokens\n",
    ")\n",
    "\n",
    "\n",
    "# Creating huggingface dataset object\n",
    "dataset = Dataset.from_pandas(test[['text']])\n",
    "\n",
    "def train_corp_iter():\n",
    "    \"\"\"\n",
    "    A generator function for iterating over a dataset in chunks.\n",
    "    \"\"\"    \n",
    "    for i in range(0, len(dataset), 1000):\n",
    "        yield dataset[i : i + 1000][\"text\"]\n",
    "\n",
    "# Training from iterator REMEMBER it's training on test set...\n",
    "raw_tokenizer.train_from_iterator(train_corp_iter(), trainer=trainer)\n",
    "\n",
    "tokenizer = PreTrainedTokenizerFast(\n",
    "    tokenizer_object=raw_tokenizer,\n",
    "    unk_token  = \"[UNK]\",\n",
    "    pad_token  = \"[PAD]\",\n",
    "    cls_token  = \"[CLS]\",\n",
    "    sep_token  = \"[SEP]\",\n",
    "    mask_token = \"[MASK]\",\n",
    ")\n",
    "\n",
    "\n",
    "\n",
    "# Tokenize test set with new tokenizer\n",
    "tokenized_texts_test = []\n",
    "for text in tqdm(test['text'].tolist()):\n",
    "    tokenized_texts_test.append(tokenizer.tokenize(text))\n",
    "\n",
    "\n",
    "# Tokenize train set\n",
    "tokenized_texts_train = []\n",
    "for text in tqdm(train['text'].tolist()):\n",
    "    tokenized_texts_train.append(tokenizer.tokenize(text))"
   ]
  },
  {
   "cell_type": "code",
   "execution_count": 8,
   "id": "bdbc6202",
   "metadata": {
    "execution": {
     "iopub.execute_input": "2024-09-26T00:00:27.103969Z",
     "iopub.status.busy": "2024-09-26T00:00:27.103338Z",
     "iopub.status.idle": "2024-09-26T00:00:27.110367Z",
     "shell.execute_reply": "2024-09-26T00:00:27.109347Z"
    },
    "papermill": {
     "duration": 0.027571,
     "end_time": "2024-09-26T00:00:27.114945",
     "exception": false,
     "start_time": "2024-09-26T00:00:27.087374",
     "status": "completed"
    },
    "tags": []
   },
   "outputs": [
    {
     "name": "stdout",
     "output_type": "stream",
     "text": [
      "['ĠBbb', 'Ġccc', 'Ġddd', '.']\n",
      "\n",
      "['ĠCCC', 'Ġddd', 'Ġeee', '.']\n"
     ]
    }
   ],
   "source": [
    "print(tokenized_texts_test[1])\n",
    "print()\n",
    "print(tokenized_texts_test[2])"
   ]
  },
  {
   "cell_type": "code",
   "execution_count": 9,
   "id": "f02cbfd6",
   "metadata": {
    "execution": {
     "iopub.execute_input": "2024-09-26T00:00:27.144305Z",
     "iopub.status.busy": "2024-09-26T00:00:27.143835Z",
     "iopub.status.idle": "2024-09-26T00:05:36.440478Z",
     "shell.execute_reply": "2024-09-26T00:05:36.439191Z"
    },
    "papermill": {
     "duration": 309.322904,
     "end_time": "2024-09-26T00:05:36.453033",
     "exception": false,
     "start_time": "2024-09-26T00:00:27.130129",
     "status": "completed"
    },
    "tags": []
   },
   "outputs": [
    {
     "name": "stdout",
     "output_type": "stream",
     "text": [
      "{'ĠAaa Ġbbb Ġccc': 0, 'Ġbbb Ġccc .': 6, 'ĠAaa Ġbbb Ġccc .': 1, 'ĠBbb Ġccc Ġddd': 2, 'Ġccc Ġddd .': 7, 'ĠBbb Ġccc Ġddd .': 3, 'ĠCCC Ġddd Ġeee': 4, 'Ġddd Ġeee .': 8, 'ĠCCC Ġddd Ġeee .': 5}\n"
     ]
    },
    {
     "data": {
      "text/plain": [
       "58"
      ]
     },
     "execution_count": 9,
     "metadata": {},
     "output_type": "execute_result"
    }
   ],
   "source": [
    "def dummy(text):\n",
    "    \"\"\"\n",
    "    A dummy function to use as tokenizer for TfidfVectorizer. \n",
    "    It returns the text as it is since we already tokenized it.\n",
    "    \"\"\"\n",
    "    return text\n",
    "\n",
    "\n",
    "\n",
    "# Fitting TfidfVectoizer on test set\n",
    "vectorizer = TfidfVectorizer(\n",
    "    ngram_range   = (3, 5), \n",
    "    lowercase     = False, \n",
    "    sublinear_tf  = True, \n",
    "    analyzer      = 'word',\n",
    "    tokenizer     = dummy,\n",
    "    preprocessor  = dummy,\n",
    "    token_pattern = None, \n",
    "    strip_accents ='unicode')\n",
    "\n",
    "\n",
    "vectorizer.fit(tokenized_texts_test)\n",
    "\n",
    "# Getting vocab\n",
    "vocab = vectorizer.vocabulary_\n",
    "print(vocab)\n",
    "\n",
    "\n",
    "# Here we fit our vectorizer on train set but this time we use vocabulary from test fit.\n",
    "vectorizer = TfidfVectorizer(\n",
    "    ngram_range    = (3, 5), \n",
    "    lowercase      = False, \n",
    "    sublinear_tf   = True, \n",
    "    vocabulary     = vocab,\n",
    "    analyzer       = 'word',\n",
    "    tokenizer      = dummy,\n",
    "    preprocessor   = dummy,\n",
    "    token_pattern  = None, \n",
    "    strip_accents  ='unicode')\n",
    "\n",
    "tf_train = vectorizer.fit_transform(tokenized_texts_train)\n",
    "tf_test = vectorizer.transform(tokenized_texts_test)\n",
    "del raw_tokenizer, trainer, tokenized_texts_test, tokenized_texts_train, vectorizer\n",
    "gc.collect()"
   ]
  },
  {
   "cell_type": "code",
   "execution_count": 10,
   "id": "3fad1788",
   "metadata": {
    "execution": {
     "iopub.execute_input": "2024-09-26T00:05:36.475411Z",
     "iopub.status.busy": "2024-09-26T00:05:36.474930Z",
     "iopub.status.idle": "2024-09-26T00:05:36.483903Z",
     "shell.execute_reply": "2024-09-26T00:05:36.482445Z"
    },
    "papermill": {
     "duration": 0.023779,
     "end_time": "2024-09-26T00:05:36.486737",
     "exception": false,
     "start_time": "2024-09-26T00:05:36.462958",
     "status": "completed"
    },
    "tags": []
   },
   "outputs": [],
   "source": [
    "y_train_label = train['label'].values"
   ]
  },
  {
   "cell_type": "code",
   "execution_count": 11,
   "id": "30c6bc2e",
   "metadata": {
    "execution": {
     "iopub.execute_input": "2024-09-26T00:05:36.509050Z",
     "iopub.status.busy": "2024-09-26T00:05:36.508649Z",
     "iopub.status.idle": "2024-09-26T00:05:36.533086Z",
     "shell.execute_reply": "2024-09-26T00:05:36.531688Z"
    },
    "papermill": {
     "duration": 0.039186,
     "end_time": "2024-09-26T00:05:36.536035",
     "exception": false,
     "start_time": "2024-09-26T00:05:36.496849",
     "status": "completed"
    },
    "tags": []
   },
   "outputs": [],
   "source": [
    "if len(test.text.values) <= 5:\n",
    "    sub.to_csv('submission.csv', index=False)\n",
    "else:\n",
    "    clf = MultinomialNB(alpha=0.0225)\n",
    "    \n",
    "    sgd_model = SGDClassifier(\n",
    "        max_iter     = 9000, \n",
    "        tol          = 1e-4, \n",
    "        random_state = 6743,\n",
    "        loss         = \"modified_huber\"\n",
    "    ) \n",
    "    \n",
    "    p={\n",
    "        'verbose'          : -1,\n",
    "        'n_iter'           : 3000,\n",
    "        'colsample_bytree' : 0.7800,\n",
    "        'colsample_bynode' : 0.8000, \n",
    "        'random_state'     : 6743,\n",
    "        'metric'           : 'auc',\n",
    "        'objective'        : 'cross_entropy',\n",
    "        'learning_rate'    : 0.00581909898961407, \n",
    "      }\n",
    "    lgb=LGBMClassifier(**p)\n",
    "    \n",
    "    \n",
    "    cat = CatBoostClassifier(\n",
    "        iterations        = 3000,\n",
    "        verbose           = 0,\n",
    "        subsample         = 0.35,\n",
    "        random_seed       = 6543,\n",
    "        allow_const_label = True,\n",
    "        loss_function     = 'CrossEntropy',\n",
    "        learning_rate     = 0.005599066836106983,\n",
    "    )\n",
    "    \n",
    "    \n",
    "    ensemble = VotingClassifier(\n",
    "        estimators = [('mnb', clf),\n",
    "                      ('sgd', sgd_model),\n",
    "                      ('lgb', lgb), \n",
    "                      ('cat', cat)],\n",
    "        weights    = [0.1, 0.31, 0.28, 0.67], \n",
    "        voting     = 'soft', \n",
    "        n_jobs     = -1\n",
    "    )\n",
    "    \n",
    "    ensemble.fit(tf_train, y_train_label)\n",
    "    gc.collect()\n",
    "    \n",
    "    final_preds = ensemble.predict_proba(tf_test)[:,1]\n",
    "    sub['generated'] = final_preds\n",
    "    #sub.to_csv('submission.csv', index=False)\n",
    "    #sub.head()\n",
    "    del clf, sgd_model, lgb, cat, ensemble\n",
    "    gc.collect()"
   ]
  },
  {
   "cell_type": "code",
   "execution_count": 12,
   "id": "83272ce6",
   "metadata": {
    "execution": {
     "iopub.execute_input": "2024-09-26T00:05:36.558845Z",
     "iopub.status.busy": "2024-09-26T00:05:36.557774Z",
     "iopub.status.idle": "2024-09-26T00:05:36.734598Z",
     "shell.execute_reply": "2024-09-26T00:05:36.733121Z"
    },
    "papermill": {
     "duration": 0.191329,
     "end_time": "2024-09-26T00:05:36.737275",
     "exception": false,
     "start_time": "2024-09-26T00:05:36.545946",
     "status": "completed"
    },
    "tags": []
   },
   "outputs": [
    {
     "data": {
      "text/plain": [
       "0"
      ]
     },
     "execution_count": 12,
     "metadata": {},
     "output_type": "execute_result"
    }
   ],
   "source": [
    "del tf_train, tf_test\n",
    "gc.collect()"
   ]
  },
  {
   "cell_type": "markdown",
   "id": "cc526e76",
   "metadata": {
    "papermill": {
     "duration": 0.009487,
     "end_time": "2024-09-26T00:05:36.756797",
     "exception": false,
     "start_time": "2024-09-26T00:05:36.747310",
     "status": "completed"
    },
    "tags": []
   },
   "source": [
    "### Model2: Deberta"
   ]
  },
  {
   "cell_type": "code",
   "execution_count": 13,
   "id": "52ee5d85",
   "metadata": {
    "execution": {
     "iopub.execute_input": "2024-09-26T00:05:36.778703Z",
     "iopub.status.busy": "2024-09-26T00:05:36.778259Z",
     "iopub.status.idle": "2024-09-26T00:05:37.489062Z",
     "shell.execute_reply": "2024-09-26T00:05:37.487441Z"
    },
    "papermill": {
     "duration": 0.725518,
     "end_time": "2024-09-26T00:05:37.492168",
     "exception": false,
     "start_time": "2024-09-26T00:05:36.766650",
     "status": "completed"
    },
    "tags": []
   },
   "outputs": [],
   "source": [
    "import pandas as pd\n",
    "import torch\n",
    "from torch import nn\n",
    "import torch.nn.functional as F\n",
    "from torch.utils.data import Dataset,DataLoader\n",
    "from transformers import AutoModel, AutoTokenizer"
   ]
  },
  {
   "cell_type": "code",
   "execution_count": 14,
   "id": "59eb19ff",
   "metadata": {
    "execution": {
     "iopub.execute_input": "2024-09-26T00:05:37.514621Z",
     "iopub.status.busy": "2024-09-26T00:05:37.514207Z",
     "iopub.status.idle": "2024-09-26T00:05:37.528068Z",
     "shell.execute_reply": "2024-09-26T00:05:37.526789Z"
    },
    "papermill": {
     "duration": 0.02858,
     "end_time": "2024-09-26T00:05:37.530936",
     "exception": false,
     "start_time": "2024-09-26T00:05:37.502356",
     "status": "completed"
    },
    "tags": []
   },
   "outputs": [],
   "source": [
    "input_path = '/kaggle/input/llm-detect-ai-generated-text'\n",
    "test_data = pd.read_csv(f'{input_path}/test_essays.csv')\n",
    "sub2 = pd.read_csv(f'{input_path}/sample_submission.csv')"
   ]
  },
  {
   "cell_type": "code",
   "execution_count": 15,
   "id": "a5e07a21",
   "metadata": {
    "execution": {
     "iopub.execute_input": "2024-09-26T00:05:37.553857Z",
     "iopub.status.busy": "2024-09-26T00:05:37.553267Z",
     "iopub.status.idle": "2024-09-26T00:05:37.568648Z",
     "shell.execute_reply": "2024-09-26T00:05:37.567191Z"
    },
    "papermill": {
     "duration": 0.030734,
     "end_time": "2024-09-26T00:05:37.571722",
     "exception": false,
     "start_time": "2024-09-26T00:05:37.540988",
     "status": "completed"
    },
    "tags": []
   },
   "outputs": [],
   "source": [
    "class MeanPooling(nn.Module):\n",
    "    def __init__(self):\n",
    "        super(MeanPooling, self).__init__()\n",
    "\n",
    "    def forward(self, last_hidden_state, attention_mask):\n",
    "        input_mask_expanded = attention_mask.unsqueeze(-1).expand(last_hidden_state.size()).float()\n",
    "        sum_embeddings = torch.sum(last_hidden_state * input_mask_expanded, 1)\n",
    "        sum_mask = input_mask_expanded.sum(1)\n",
    "        sum_mask = torch.clamp(sum_mask, min=1e-9)\n",
    "        mean_embeddings = sum_embeddings / sum_mask\n",
    "        return mean_embeddings\n",
    "\n",
    "class ClassifierModel(nn.Module):\n",
    "    def __init__(self, checkpoint):\n",
    "        super(ClassifierModel, self).__init__()\n",
    "        self.bert_model = AutoModel.from_pretrained(checkpoint)\n",
    "        self.dropout = nn.Dropout(0.1)\n",
    "        self.classifier = nn.Linear(768, 1)\n",
    "        self.pool = MeanPooling()\n",
    "        \n",
    "    def encode(self, input_ids, attention_mask, token_type_ids):\n",
    "        outputs = self.bert_model(\n",
    "            input_ids,\n",
    "            attention_mask=attention_mask,\n",
    "            token_type_ids=token_type_ids,\n",
    "            output_hidden_states=False\n",
    "        )\n",
    "\n",
    "        encoder_layer = outputs.last_hidden_state\n",
    "        embeddings = self.pool(encoder_layer, attention_mask)\n",
    "\n",
    "        return embeddings\n",
    "        \n",
    "    def forward(self, x):\n",
    "        bert_output = self.encode(**x)\n",
    "        x = self.dropout(bert_output)\n",
    "        x = self.classifier(x)\n",
    "        return x"
   ]
  },
  {
   "cell_type": "code",
   "execution_count": 16,
   "id": "3e1ee0f1",
   "metadata": {
    "execution": {
     "iopub.execute_input": "2024-09-26T00:05:37.594431Z",
     "iopub.status.busy": "2024-09-26T00:05:37.593969Z",
     "iopub.status.idle": "2024-09-26T00:05:37.600157Z",
     "shell.execute_reply": "2024-09-26T00:05:37.598557Z"
    },
    "papermill": {
     "duration": 0.020588,
     "end_time": "2024-09-26T00:05:37.603074",
     "exception": false,
     "start_time": "2024-09-26T00:05:37.582486",
     "status": "completed"
    },
    "tags": []
   },
   "outputs": [],
   "source": [
    "device = 'cuda' if torch.cuda.is_available() else 'cpu'"
   ]
  },
  {
   "cell_type": "code",
   "execution_count": 17,
   "id": "1b039da5",
   "metadata": {
    "execution": {
     "iopub.execute_input": "2024-09-26T00:05:37.625771Z",
     "iopub.status.busy": "2024-09-26T00:05:37.625072Z",
     "iopub.status.idle": "2024-09-26T00:05:46.580208Z",
     "shell.execute_reply": "2024-09-26T00:05:46.579035Z"
    },
    "papermill": {
     "duration": 8.969829,
     "end_time": "2024-09-26T00:05:46.583079",
     "exception": false,
     "start_time": "2024-09-26T00:05:37.613250",
     "status": "completed"
    },
    "tags": []
   },
   "outputs": [],
   "source": [
    "model_path = '/kaggle/input/detect-ai-generated-text-deberta-model'\n",
    "tokenizer = AutoTokenizer.from_pretrained(f'{model_path}/bert-tokenizer')\n",
    "#model_name = \"/kaggle/input/deberta-v3-small/deberta-v3-small\"  \n",
    "#tokenizer = AutoTokenizer.from_pretrained(model_name)\n",
    "model = torch.load(f'{model_path}/epoch2_valid_loss_0.11764985185027832_auc_0.9871818302651691_model.bin',\n",
    "                  map_location=torch.device(device))"
   ]
  },
  {
   "cell_type": "code",
   "execution_count": 18,
   "id": "862fac48",
   "metadata": {
    "execution": {
     "iopub.execute_input": "2024-09-26T00:05:46.605551Z",
     "iopub.status.busy": "2024-09-26T00:05:46.604747Z",
     "iopub.status.idle": "2024-09-26T00:05:46.618953Z",
     "shell.execute_reply": "2024-09-26T00:05:46.617629Z"
    },
    "papermill": {
     "duration": 0.028211,
     "end_time": "2024-09-26T00:05:46.621803",
     "exception": false,
     "start_time": "2024-09-26T00:05:46.593592",
     "status": "completed"
    },
    "tags": []
   },
   "outputs": [],
   "source": [
    "class EssayDataSet(Dataset):\n",
    "    def __init__(self, data_path):\n",
    "        self.data = pd.read_csv(data_path)\n",
    "        \n",
    "    def __len__(self):\n",
    "        return len(self.data)\n",
    "    \n",
    "    def __getitem__(self, idx):\n",
    "        return self.data.iloc[idx]\n",
    "\n",
    "test_data = EssayDataSet(f'/kaggle/input/llm-detect-ai-generated-text/test_essays.csv')\n",
    "\n",
    "\n",
    "def collate_fn(batch_samples):\n",
    "    return tokenizer([batch_sample['text'] for batch_sample in batch_samples], padding=True,truncation=True, max_length=512,\n",
    "                 return_tensors=\"pt\")\n",
    "\n",
    "test_dataloader = DataLoader(test_data, batch_size=16, shuffle=False, collate_fn=collate_fn)"
   ]
  },
  {
   "cell_type": "code",
   "execution_count": 19,
   "id": "ba8c8c5b",
   "metadata": {
    "execution": {
     "iopub.execute_input": "2024-09-26T00:05:46.644209Z",
     "iopub.status.busy": "2024-09-26T00:05:46.643754Z",
     "iopub.status.idle": "2024-09-26T00:05:47.051943Z",
     "shell.execute_reply": "2024-09-26T00:05:47.049591Z"
    },
    "papermill": {
     "duration": 0.424496,
     "end_time": "2024-09-26T00:05:47.056438",
     "exception": false,
     "start_time": "2024-09-26T00:05:46.631942",
     "status": "completed"
    },
    "tags": []
   },
   "outputs": [],
   "source": [
    "model.eval()\n",
    "\n",
    "y_pred = []\n",
    "with torch.no_grad():\n",
    "    for X in test_dataloader:\n",
    "        X = X.to(device)\n",
    "        pred = model(X)\n",
    "        y_pred.extend(F.sigmoid(pred).cpu().numpy().flatten())\n",
    "        \n",
    "sub2['generated'] = y_pred"
   ]
  },
  {
   "cell_type": "markdown",
   "id": "db96817e",
   "metadata": {
    "papermill": {
     "duration": 0.013727,
     "end_time": "2024-09-26T00:05:47.081420",
     "exception": false,
     "start_time": "2024-09-26T00:05:47.067693",
     "status": "completed"
    },
    "tags": []
   },
   "source": [
    "### Rank Ensemble"
   ]
  },
  {
   "cell_type": "code",
   "execution_count": 20,
   "id": "c22fa859",
   "metadata": {
    "execution": {
     "iopub.execute_input": "2024-09-26T00:05:47.110683Z",
     "iopub.status.busy": "2024-09-26T00:05:47.110243Z",
     "iopub.status.idle": "2024-09-26T00:05:47.120008Z",
     "shell.execute_reply": "2024-09-26T00:05:47.118537Z"
    },
    "papermill": {
     "duration": 0.026927,
     "end_time": "2024-09-26T00:05:47.123335",
     "exception": false,
     "start_time": "2024-09-26T00:05:47.096408",
     "status": "completed"
    },
    "tags": []
   },
   "outputs": [],
   "source": [
    "sub[\"generated\"] = sub[\"generated\"].rank(method='min')\n",
    "sub2[\"generated\"] = sub[\"generated\"].rank(method='min')"
   ]
  },
  {
   "cell_type": "code",
   "execution_count": 21,
   "id": "b6eabe66",
   "metadata": {
    "execution": {
     "iopub.execute_input": "2024-09-26T00:05:47.151543Z",
     "iopub.status.busy": "2024-09-26T00:05:47.150654Z",
     "iopub.status.idle": "2024-09-26T00:05:47.164404Z",
     "shell.execute_reply": "2024-09-26T00:05:47.163192Z"
    },
    "papermill": {
     "duration": 0.029903,
     "end_time": "2024-09-26T00:05:47.167036",
     "exception": false,
     "start_time": "2024-09-26T00:05:47.137133",
     "status": "completed"
    },
    "tags": []
   },
   "outputs": [],
   "source": [
    "sub_df = pd.concat([sub, sub2])\n",
    "sub_df = sub_df.groupby(['id'])['generated'].mean().reset_index()\n",
    "sub_df.to_csv('submission.csv', index=False)"
   ]
  },
  {
   "cell_type": "code",
   "execution_count": null,
   "id": "8d017e5b",
   "metadata": {
    "papermill": {
     "duration": 0.009624,
     "end_time": "2024-09-26T00:05:47.186807",
     "exception": false,
     "start_time": "2024-09-26T00:05:47.177183",
     "status": "completed"
    },
    "tags": []
   },
   "outputs": [],
   "source": []
  }
 ],
 "metadata": {
  "kaggle": {
   "accelerator": "none",
   "dataSources": [
    {
     "databundleVersionId": 7516023,
     "sourceId": 61542,
     "sourceType": "competition"
    },
    {
     "datasetId": 4005256,
     "sourceId": 6977472,
     "sourceType": "datasetVersion"
    },
    {
     "datasetId": 5763534,
     "sourceId": 9476472,
     "sourceType": "datasetVersion"
    }
   ],
   "dockerImageVersionId": 30776,
   "isGpuEnabled": false,
   "isInternetEnabled": false,
   "language": "python",
   "sourceType": "notebook"
  },
  "kernelspec": {
   "display_name": "Python 3",
   "language": "python",
   "name": "python3"
  },
  "language_info": {
   "codemirror_mode": {
    "name": "ipython",
    "version": 3
   },
   "file_extension": ".py",
   "mimetype": "text/x-python",
   "name": "python",
   "nbconvert_exporter": "python",
   "pygments_lexer": "ipython3",
   "version": "3.10.14"
  },
  "papermill": {
   "default_parameters": {},
   "duration": 500.773113,
   "end_time": "2024-09-26T00:05:49.716947",
   "environment_variables": {},
   "exception": null,
   "input_path": "__notebook__.ipynb",
   "output_path": "__notebook__.ipynb",
   "parameters": {},
   "start_time": "2024-09-25T23:57:28.943834",
   "version": "2.6.0"
  },
  "widgets": {
   "application/vnd.jupyter.widget-state+json": {
    "state": {
     "07d0b64aad544832b439c7255109e410": {
      "model_module": "@jupyter-widgets/base",
      "model_module_version": "1.2.0",
      "model_name": "LayoutModel",
      "state": {
       "_model_module": "@jupyter-widgets/base",
       "_model_module_version": "1.2.0",
       "_model_name": "LayoutModel",
       "_view_count": null,
       "_view_module": "@jupyter-widgets/base",
       "_view_module_version": "1.2.0",
       "_view_name": "LayoutView",
       "align_content": null,
       "align_items": null,
       "align_self": null,
       "border": null,
       "bottom": null,
       "display": null,
       "flex": null,
       "flex_flow": null,
       "grid_area": null,
       "grid_auto_columns": null,
       "grid_auto_flow": null,
       "grid_auto_rows": null,
       "grid_column": null,
       "grid_gap": null,
       "grid_row": null,
       "grid_template_areas": null,
       "grid_template_columns": null,
       "grid_template_rows": null,
       "height": null,
       "justify_content": null,
       "justify_items": null,
       "left": null,
       "margin": null,
       "max_height": null,
       "max_width": null,
       "min_height": null,
       "min_width": null,
       "object_fit": null,
       "object_position": null,
       "order": null,
       "overflow": null,
       "overflow_x": null,
       "overflow_y": null,
       "padding": null,
       "right": null,
       "top": null,
       "visibility": null,
       "width": null
      }
     },
     "0f8549add3584a9587a6d3598c7ed0ae": {
      "model_module": "@jupyter-widgets/controls",
      "model_module_version": "1.5.0",
      "model_name": "DescriptionStyleModel",
      "state": {
       "_model_module": "@jupyter-widgets/controls",
       "_model_module_version": "1.5.0",
       "_model_name": "DescriptionStyleModel",
       "_view_count": null,
       "_view_module": "@jupyter-widgets/base",
       "_view_module_version": "1.2.0",
       "_view_name": "StyleView",
       "description_width": ""
      }
     },
     "17185ca9e7ec442095023f4e549d944e": {
      "model_module": "@jupyter-widgets/controls",
      "model_module_version": "1.5.0",
      "model_name": "HTMLModel",
      "state": {
       "_dom_classes": [],
       "_model_module": "@jupyter-widgets/controls",
       "_model_module_version": "1.5.0",
       "_model_name": "HTMLModel",
       "_view_count": null,
       "_view_module": "@jupyter-widgets/controls",
       "_view_module_version": "1.5.0",
       "_view_name": "HTMLView",
       "description": "",
       "description_tooltip": null,
       "layout": "IPY_MODEL_414d21a1417b4cc4adc50aef7b6abd2e",
       "placeholder": "​",
       "style": "IPY_MODEL_0f8549add3584a9587a6d3598c7ed0ae",
       "value": "100%"
      }
     },
     "1b181533131a465dbde95527dda906c8": {
      "model_module": "@jupyter-widgets/base",
      "model_module_version": "1.2.0",
      "model_name": "LayoutModel",
      "state": {
       "_model_module": "@jupyter-widgets/base",
       "_model_module_version": "1.2.0",
       "_model_name": "LayoutModel",
       "_view_count": null,
       "_view_module": "@jupyter-widgets/base",
       "_view_module_version": "1.2.0",
       "_view_name": "LayoutView",
       "align_content": null,
       "align_items": null,
       "align_self": null,
       "border": null,
       "bottom": null,
       "display": null,
       "flex": null,
       "flex_flow": null,
       "grid_area": null,
       "grid_auto_columns": null,
       "grid_auto_flow": null,
       "grid_auto_rows": null,
       "grid_column": null,
       "grid_gap": null,
       "grid_row": null,
       "grid_template_areas": null,
       "grid_template_columns": null,
       "grid_template_rows": null,
       "height": null,
       "justify_content": null,
       "justify_items": null,
       "left": null,
       "margin": null,
       "max_height": null,
       "max_width": null,
       "min_height": null,
       "min_width": null,
       "object_fit": null,
       "object_position": null,
       "order": null,
       "overflow": null,
       "overflow_x": null,
       "overflow_y": null,
       "padding": null,
       "right": null,
       "top": null,
       "visibility": null,
       "width": null
      }
     },
     "2c26dd06b18140499eed84082de4b7b5": {
      "model_module": "@jupyter-widgets/controls",
      "model_module_version": "1.5.0",
      "model_name": "ProgressStyleModel",
      "state": {
       "_model_module": "@jupyter-widgets/controls",
       "_model_module_version": "1.5.0",
       "_model_name": "ProgressStyleModel",
       "_view_count": null,
       "_view_module": "@jupyter-widgets/base",
       "_view_module_version": "1.2.0",
       "_view_name": "StyleView",
       "bar_color": null,
       "description_width": ""
      }
     },
     "3b03e8b29f8d455f94f78a2fde127016": {
      "model_module": "@jupyter-widgets/controls",
      "model_module_version": "1.5.0",
      "model_name": "HTMLModel",
      "state": {
       "_dom_classes": [],
       "_model_module": "@jupyter-widgets/controls",
       "_model_module_version": "1.5.0",
       "_model_name": "HTMLModel",
       "_view_count": null,
       "_view_module": "@jupyter-widgets/controls",
       "_view_module_version": "1.5.0",
       "_view_name": "HTMLView",
       "description": "",
       "description_tooltip": null,
       "layout": "IPY_MODEL_1b181533131a465dbde95527dda906c8",
       "placeholder": "​",
       "style": "IPY_MODEL_58c1f6c41d4645c89c566705b7ef68ea",
       "value": " 44868/44868 [02:41&lt;00:00, 280.94it/s]"
      }
     },
     "3ceeea3be38d41bca330e68f536e8f5b": {
      "model_module": "@jupyter-widgets/base",
      "model_module_version": "1.2.0",
      "model_name": "LayoutModel",
      "state": {
       "_model_module": "@jupyter-widgets/base",
       "_model_module_version": "1.2.0",
       "_model_name": "LayoutModel",
       "_view_count": null,
       "_view_module": "@jupyter-widgets/base",
       "_view_module_version": "1.2.0",
       "_view_name": "LayoutView",
       "align_content": null,
       "align_items": null,
       "align_self": null,
       "border": null,
       "bottom": null,
       "display": null,
       "flex": null,
       "flex_flow": null,
       "grid_area": null,
       "grid_auto_columns": null,
       "grid_auto_flow": null,
       "grid_auto_rows": null,
       "grid_column": null,
       "grid_gap": null,
       "grid_row": null,
       "grid_template_areas": null,
       "grid_template_columns": null,
       "grid_template_rows": null,
       "height": null,
       "justify_content": null,
       "justify_items": null,
       "left": null,
       "margin": null,
       "max_height": null,
       "max_width": null,
       "min_height": null,
       "min_width": null,
       "object_fit": null,
       "object_position": null,
       "order": null,
       "overflow": null,
       "overflow_x": null,
       "overflow_y": null,
       "padding": null,
       "right": null,
       "top": null,
       "visibility": null,
       "width": null
      }
     },
     "414d21a1417b4cc4adc50aef7b6abd2e": {
      "model_module": "@jupyter-widgets/base",
      "model_module_version": "1.2.0",
      "model_name": "LayoutModel",
      "state": {
       "_model_module": "@jupyter-widgets/base",
       "_model_module_version": "1.2.0",
       "_model_name": "LayoutModel",
       "_view_count": null,
       "_view_module": "@jupyter-widgets/base",
       "_view_module_version": "1.2.0",
       "_view_name": "LayoutView",
       "align_content": null,
       "align_items": null,
       "align_self": null,
       "border": null,
       "bottom": null,
       "display": null,
       "flex": null,
       "flex_flow": null,
       "grid_area": null,
       "grid_auto_columns": null,
       "grid_auto_flow": null,
       "grid_auto_rows": null,
       "grid_column": null,
       "grid_gap": null,
       "grid_row": null,
       "grid_template_areas": null,
       "grid_template_columns": null,
       "grid_template_rows": null,
       "height": null,
       "justify_content": null,
       "justify_items": null,
       "left": null,
       "margin": null,
       "max_height": null,
       "max_width": null,
       "min_height": null,
       "min_width": null,
       "object_fit": null,
       "object_position": null,
       "order": null,
       "overflow": null,
       "overflow_x": null,
       "overflow_y": null,
       "padding": null,
       "right": null,
       "top": null,
       "visibility": null,
       "width": null
      }
     },
     "4306ca40698143608eff5a578d60e068": {
      "model_module": "@jupyter-widgets/base",
      "model_module_version": "1.2.0",
      "model_name": "LayoutModel",
      "state": {
       "_model_module": "@jupyter-widgets/base",
       "_model_module_version": "1.2.0",
       "_model_name": "LayoutModel",
       "_view_count": null,
       "_view_module": "@jupyter-widgets/base",
       "_view_module_version": "1.2.0",
       "_view_name": "LayoutView",
       "align_content": null,
       "align_items": null,
       "align_self": null,
       "border": null,
       "bottom": null,
       "display": null,
       "flex": null,
       "flex_flow": null,
       "grid_area": null,
       "grid_auto_columns": null,
       "grid_auto_flow": null,
       "grid_auto_rows": null,
       "grid_column": null,
       "grid_gap": null,
       "grid_row": null,
       "grid_template_areas": null,
       "grid_template_columns": null,
       "grid_template_rows": null,
       "height": null,
       "justify_content": null,
       "justify_items": null,
       "left": null,
       "margin": null,
       "max_height": null,
       "max_width": null,
       "min_height": null,
       "min_width": null,
       "object_fit": null,
       "object_position": null,
       "order": null,
       "overflow": null,
       "overflow_x": null,
       "overflow_y": null,
       "padding": null,
       "right": null,
       "top": null,
       "visibility": null,
       "width": null
      }
     },
     "436831e8a0744dae9ada0672fe13459a": {
      "model_module": "@jupyter-widgets/controls",
      "model_module_version": "1.5.0",
      "model_name": "DescriptionStyleModel",
      "state": {
       "_model_module": "@jupyter-widgets/controls",
       "_model_module_version": "1.5.0",
       "_model_name": "DescriptionStyleModel",
       "_view_count": null,
       "_view_module": "@jupyter-widgets/base",
       "_view_module_version": "1.2.0",
       "_view_name": "StyleView",
       "description_width": ""
      }
     },
     "4518d3b5d13b4c21a77ff269e563dd83": {
      "model_module": "@jupyter-widgets/controls",
      "model_module_version": "1.5.0",
      "model_name": "FloatProgressModel",
      "state": {
       "_dom_classes": [],
       "_model_module": "@jupyter-widgets/controls",
       "_model_module_version": "1.5.0",
       "_model_name": "FloatProgressModel",
       "_view_count": null,
       "_view_module": "@jupyter-widgets/controls",
       "_view_module_version": "1.5.0",
       "_view_name": "ProgressView",
       "bar_style": "success",
       "description": "",
       "description_tooltip": null,
       "layout": "IPY_MODEL_07d0b64aad544832b439c7255109e410",
       "max": 3.0,
       "min": 0.0,
       "orientation": "horizontal",
       "style": "IPY_MODEL_2c26dd06b18140499eed84082de4b7b5",
       "value": 3.0
      }
     },
     "45bcdcd66d23467eb8b0ff34df970d2d": {
      "model_module": "@jupyter-widgets/controls",
      "model_module_version": "1.5.0",
      "model_name": "HTMLModel",
      "state": {
       "_dom_classes": [],
       "_model_module": "@jupyter-widgets/controls",
       "_model_module_version": "1.5.0",
       "_model_name": "HTMLModel",
       "_view_count": null,
       "_view_module": "@jupyter-widgets/controls",
       "_view_module_version": "1.5.0",
       "_view_name": "HTMLView",
       "description": "",
       "description_tooltip": null,
       "layout": "IPY_MODEL_3ceeea3be38d41bca330e68f536e8f5b",
       "placeholder": "​",
       "style": "IPY_MODEL_be2243ff79924daa846b76f5cac51a40",
       "value": "100%"
      }
     },
     "4e77a28a005747b086d16c38a64cd26d": {
      "model_module": "@jupyter-widgets/base",
      "model_module_version": "1.2.0",
      "model_name": "LayoutModel",
      "state": {
       "_model_module": "@jupyter-widgets/base",
       "_model_module_version": "1.2.0",
       "_model_name": "LayoutModel",
       "_view_count": null,
       "_view_module": "@jupyter-widgets/base",
       "_view_module_version": "1.2.0",
       "_view_name": "LayoutView",
       "align_content": null,
       "align_items": null,
       "align_self": null,
       "border": null,
       "bottom": null,
       "display": null,
       "flex": null,
       "flex_flow": null,
       "grid_area": null,
       "grid_auto_columns": null,
       "grid_auto_flow": null,
       "grid_auto_rows": null,
       "grid_column": null,
       "grid_gap": null,
       "grid_row": null,
       "grid_template_areas": null,
       "grid_template_columns": null,
       "grid_template_rows": null,
       "height": null,
       "justify_content": null,
       "justify_items": null,
       "left": null,
       "margin": null,
       "max_height": null,
       "max_width": null,
       "min_height": null,
       "min_width": null,
       "object_fit": null,
       "object_position": null,
       "order": null,
       "overflow": null,
       "overflow_x": null,
       "overflow_y": null,
       "padding": null,
       "right": null,
       "top": null,
       "visibility": null,
       "width": null
      }
     },
     "50d6413437fc4d0bbe34cb1681b141ab": {
      "model_module": "@jupyter-widgets/controls",
      "model_module_version": "1.5.0",
      "model_name": "ProgressStyleModel",
      "state": {
       "_model_module": "@jupyter-widgets/controls",
       "_model_module_version": "1.5.0",
       "_model_name": "ProgressStyleModel",
       "_view_count": null,
       "_view_module": "@jupyter-widgets/base",
       "_view_module_version": "1.2.0",
       "_view_name": "StyleView",
       "bar_color": null,
       "description_width": ""
      }
     },
     "50f81742989949789df2499e0aaf059f": {
      "model_module": "@jupyter-widgets/controls",
      "model_module_version": "1.5.0",
      "model_name": "HTMLModel",
      "state": {
       "_dom_classes": [],
       "_model_module": "@jupyter-widgets/controls",
       "_model_module_version": "1.5.0",
       "_model_name": "HTMLModel",
       "_view_count": null,
       "_view_module": "@jupyter-widgets/controls",
       "_view_module_version": "1.5.0",
       "_view_name": "HTMLView",
       "description": "",
       "description_tooltip": null,
       "layout": "IPY_MODEL_4306ca40698143608eff5a578d60e068",
       "placeholder": "​",
       "style": "IPY_MODEL_436831e8a0744dae9ada0672fe13459a",
       "value": " 3/3 [00:00&lt;00:00, 166.41it/s]"
      }
     },
     "58c1f6c41d4645c89c566705b7ef68ea": {
      "model_module": "@jupyter-widgets/controls",
      "model_module_version": "1.5.0",
      "model_name": "DescriptionStyleModel",
      "state": {
       "_model_module": "@jupyter-widgets/controls",
       "_model_module_version": "1.5.0",
       "_model_name": "DescriptionStyleModel",
       "_view_count": null,
       "_view_module": "@jupyter-widgets/base",
       "_view_module_version": "1.2.0",
       "_view_name": "StyleView",
       "description_width": ""
      }
     },
     "648917fa6fa540959c7513b642a31e8b": {
      "model_module": "@jupyter-widgets/base",
      "model_module_version": "1.2.0",
      "model_name": "LayoutModel",
      "state": {
       "_model_module": "@jupyter-widgets/base",
       "_model_module_version": "1.2.0",
       "_model_name": "LayoutModel",
       "_view_count": null,
       "_view_module": "@jupyter-widgets/base",
       "_view_module_version": "1.2.0",
       "_view_name": "LayoutView",
       "align_content": null,
       "align_items": null,
       "align_self": null,
       "border": null,
       "bottom": null,
       "display": null,
       "flex": null,
       "flex_flow": null,
       "grid_area": null,
       "grid_auto_columns": null,
       "grid_auto_flow": null,
       "grid_auto_rows": null,
       "grid_column": null,
       "grid_gap": null,
       "grid_row": null,
       "grid_template_areas": null,
       "grid_template_columns": null,
       "grid_template_rows": null,
       "height": null,
       "justify_content": null,
       "justify_items": null,
       "left": null,
       "margin": null,
       "max_height": null,
       "max_width": null,
       "min_height": null,
       "min_width": null,
       "object_fit": null,
       "object_position": null,
       "order": null,
       "overflow": null,
       "overflow_x": null,
       "overflow_y": null,
       "padding": null,
       "right": null,
       "top": null,
       "visibility": null,
       "width": null
      }
     },
     "7dfa970ceef54ec89c7b194d2b6123df": {
      "model_module": "@jupyter-widgets/controls",
      "model_module_version": "1.5.0",
      "model_name": "HBoxModel",
      "state": {
       "_dom_classes": [],
       "_model_module": "@jupyter-widgets/controls",
       "_model_module_version": "1.5.0",
       "_model_name": "HBoxModel",
       "_view_count": null,
       "_view_module": "@jupyter-widgets/controls",
       "_view_module_version": "1.5.0",
       "_view_name": "HBoxView",
       "box_style": "",
       "children": [
        "IPY_MODEL_45bcdcd66d23467eb8b0ff34df970d2d",
        "IPY_MODEL_ed0712ec17ba41739aa17b7fcfa14114",
        "IPY_MODEL_3b03e8b29f8d455f94f78a2fde127016"
       ],
       "layout": "IPY_MODEL_db30deb11eb943ab9d107631646ae885"
      }
     },
     "be2243ff79924daa846b76f5cac51a40": {
      "model_module": "@jupyter-widgets/controls",
      "model_module_version": "1.5.0",
      "model_name": "DescriptionStyleModel",
      "state": {
       "_model_module": "@jupyter-widgets/controls",
       "_model_module_version": "1.5.0",
       "_model_name": "DescriptionStyleModel",
       "_view_count": null,
       "_view_module": "@jupyter-widgets/base",
       "_view_module_version": "1.2.0",
       "_view_name": "StyleView",
       "description_width": ""
      }
     },
     "db30deb11eb943ab9d107631646ae885": {
      "model_module": "@jupyter-widgets/base",
      "model_module_version": "1.2.0",
      "model_name": "LayoutModel",
      "state": {
       "_model_module": "@jupyter-widgets/base",
       "_model_module_version": "1.2.0",
       "_model_name": "LayoutModel",
       "_view_count": null,
       "_view_module": "@jupyter-widgets/base",
       "_view_module_version": "1.2.0",
       "_view_name": "LayoutView",
       "align_content": null,
       "align_items": null,
       "align_self": null,
       "border": null,
       "bottom": null,
       "display": null,
       "flex": null,
       "flex_flow": null,
       "grid_area": null,
       "grid_auto_columns": null,
       "grid_auto_flow": null,
       "grid_auto_rows": null,
       "grid_column": null,
       "grid_gap": null,
       "grid_row": null,
       "grid_template_areas": null,
       "grid_template_columns": null,
       "grid_template_rows": null,
       "height": null,
       "justify_content": null,
       "justify_items": null,
       "left": null,
       "margin": null,
       "max_height": null,
       "max_width": null,
       "min_height": null,
       "min_width": null,
       "object_fit": null,
       "object_position": null,
       "order": null,
       "overflow": null,
       "overflow_x": null,
       "overflow_y": null,
       "padding": null,
       "right": null,
       "top": null,
       "visibility": null,
       "width": null
      }
     },
     "ed0712ec17ba41739aa17b7fcfa14114": {
      "model_module": "@jupyter-widgets/controls",
      "model_module_version": "1.5.0",
      "model_name": "FloatProgressModel",
      "state": {
       "_dom_classes": [],
       "_model_module": "@jupyter-widgets/controls",
       "_model_module_version": "1.5.0",
       "_model_name": "FloatProgressModel",
       "_view_count": null,
       "_view_module": "@jupyter-widgets/controls",
       "_view_module_version": "1.5.0",
       "_view_name": "ProgressView",
       "bar_style": "success",
       "description": "",
       "description_tooltip": null,
       "layout": "IPY_MODEL_648917fa6fa540959c7513b642a31e8b",
       "max": 44868.0,
       "min": 0.0,
       "orientation": "horizontal",
       "style": "IPY_MODEL_50d6413437fc4d0bbe34cb1681b141ab",
       "value": 44868.0
      }
     },
     "f94838921e45496f81b5bf19026cf13d": {
      "model_module": "@jupyter-widgets/controls",
      "model_module_version": "1.5.0",
      "model_name": "HBoxModel",
      "state": {
       "_dom_classes": [],
       "_model_module": "@jupyter-widgets/controls",
       "_model_module_version": "1.5.0",
       "_model_name": "HBoxModel",
       "_view_count": null,
       "_view_module": "@jupyter-widgets/controls",
       "_view_module_version": "1.5.0",
       "_view_name": "HBoxView",
       "box_style": "",
       "children": [
        "IPY_MODEL_17185ca9e7ec442095023f4e549d944e",
        "IPY_MODEL_4518d3b5d13b4c21a77ff269e563dd83",
        "IPY_MODEL_50f81742989949789df2499e0aaf059f"
       ],
       "layout": "IPY_MODEL_4e77a28a005747b086d16c38a64cd26d"
      }
     }
    },
    "version_major": 2,
    "version_minor": 0
   }
  }
 },
 "nbformat": 4,
 "nbformat_minor": 5
}
