{
 "cells": [
  {
   "cell_type": "code",
   "execution_count": 1,
   "id": "3c903262",
   "metadata": {
    "execution": {
     "iopub.execute_input": "2024-01-22T12:36:33.353813Z",
     "iopub.status.busy": "2024-01-22T12:36:33.353430Z",
     "iopub.status.idle": "2024-01-22T12:36:33.363360Z",
     "shell.execute_reply": "2024-01-22T12:36:33.362688Z"
    },
    "papermill": {
     "duration": 0.01861,
     "end_time": "2024-01-22T12:36:33.365271",
     "exception": false,
     "start_time": "2024-01-22T12:36:33.346661",
     "status": "completed"
    },
    "tags": []
   },
   "outputs": [],
   "source": [
    "import warnings\n",
    "warnings.filterwarnings('ignore')"
   ]
  },
  {
   "cell_type": "code",
   "execution_count": 2,
   "id": "d1fb3d1f",
   "metadata": {
    "execution": {
     "iopub.execute_input": "2024-01-22T12:36:33.376092Z",
     "iopub.status.busy": "2024-01-22T12:36:33.375833Z",
     "iopub.status.idle": "2024-01-22T12:36:41.167525Z",
     "shell.execute_reply": "2024-01-22T12:36:41.166561Z"
    },
    "papermill": {
     "duration": 7.799752,
     "end_time": "2024-01-22T12:36:41.170031",
     "exception": false,
     "start_time": "2024-01-22T12:36:33.370279",
     "status": "completed"
    },
    "tags": []
   },
   "outputs": [],
   "source": [
    "from sklearn.feature_extraction.text import TfidfVectorizer\n",
    "from sklearn.model_selection import StratifiedKFold, train_test_split\n",
    "from sklearn.linear_model import SGDClassifier\n",
    "from sklearn.naive_bayes import MultinomialNB\n",
    "from sklearn.ensemble import VotingClassifier, RandomForestClassifier\n",
    "from sklearn.metrics import roc_auc_score\n",
    "from catboost import CatBoostClassifier\n",
    "from lightgbm import LGBMClassifier\n",
    "\n",
    "\n",
    "from transformers import PreTrainedTokenizerFast\n",
    "from tokenizers import (\n",
    "    decoders,\n",
    "    models,\n",
    "    normalizers,\n",
    "    pre_tokenizers,\n",
    "    processors,\n",
    "    trainers,\n",
    "    Tokenizer,\n",
    ")\n",
    "\n",
    "\n",
    "from datasets import Dataset\n",
    "from tqdm.auto import tqdm\n",
    "import pandas as pd\n",
    "import numpy as np\n",
    "import sys\n",
    "import gc"
   ]
  },
  {
   "cell_type": "code",
   "execution_count": 3,
   "id": "30e47d25",
   "metadata": {
    "execution": {
     "iopub.execute_input": "2024-01-22T12:36:41.181310Z",
     "iopub.status.busy": "2024-01-22T12:36:41.180701Z",
     "iopub.status.idle": "2024-01-22T12:36:43.414601Z",
     "shell.execute_reply": "2024-01-22T12:36:43.413631Z"
    },
    "papermill": {
     "duration": 2.24221,
     "end_time": "2024-01-22T12:36:43.417208",
     "exception": false,
     "start_time": "2024-01-22T12:36:41.174998",
     "status": "completed"
    },
    "tags": []
   },
   "outputs": [],
   "source": [
    "test = pd.read_csv('/kaggle/input/llm-detect-ai-generated-text/test_essays.csv')\n",
    "sub = pd.read_csv('/kaggle/input/llm-detect-ai-generated-text/sample_submission.csv')\n",
    "train = pd.read_csv(\"/kaggle/input/daigt-v2-train-dataset/train_v2_drcat_02.csv\", sep=',')"
   ]
  },
  {
   "cell_type": "code",
   "execution_count": 4,
   "id": "ff887f49",
   "metadata": {
    "execution": {
     "iopub.execute_input": "2024-01-22T12:36:43.428455Z",
     "iopub.status.busy": "2024-01-22T12:36:43.428105Z",
     "iopub.status.idle": "2024-01-22T12:36:43.518154Z",
     "shell.execute_reply": "2024-01-22T12:36:43.517078Z"
    },
    "papermill": {
     "duration": 0.097949,
     "end_time": "2024-01-22T12:36:43.520210",
     "exception": false,
     "start_time": "2024-01-22T12:36:43.422261",
     "status": "completed"
    },
    "tags": []
   },
   "outputs": [
    {
     "data": {
      "text/html": [
       "<div>\n",
       "<style scoped>\n",
       "    .dataframe tbody tr th:only-of-type {\n",
       "        vertical-align: middle;\n",
       "    }\n",
       "\n",
       "    .dataframe tbody tr th {\n",
       "        vertical-align: top;\n",
       "    }\n",
       "\n",
       "    .dataframe thead th {\n",
       "        text-align: right;\n",
       "    }\n",
       "</style>\n",
       "<table border=\"1\" class=\"dataframe\">\n",
       "  <thead>\n",
       "    <tr style=\"text-align: right;\">\n",
       "      <th></th>\n",
       "      <th>text</th>\n",
       "      <th>label</th>\n",
       "      <th>prompt_name</th>\n",
       "      <th>source</th>\n",
       "      <th>RDizzl3_seven</th>\n",
       "    </tr>\n",
       "  </thead>\n",
       "  <tbody>\n",
       "    <tr>\n",
       "      <th>0</th>\n",
       "      <td>Phones\\n\\nModern humans today are always on th...</td>\n",
       "      <td>0</td>\n",
       "      <td>Phones and driving</td>\n",
       "      <td>persuade_corpus</td>\n",
       "      <td>False</td>\n",
       "    </tr>\n",
       "    <tr>\n",
       "      <th>1</th>\n",
       "      <td>This essay will explain if drivers should or s...</td>\n",
       "      <td>0</td>\n",
       "      <td>Phones and driving</td>\n",
       "      <td>persuade_corpus</td>\n",
       "      <td>False</td>\n",
       "    </tr>\n",
       "    <tr>\n",
       "      <th>2</th>\n",
       "      <td>Driving while the use of cellular devices\\n\\nT...</td>\n",
       "      <td>0</td>\n",
       "      <td>Phones and driving</td>\n",
       "      <td>persuade_corpus</td>\n",
       "      <td>False</td>\n",
       "    </tr>\n",
       "    <tr>\n",
       "      <th>3</th>\n",
       "      <td>Phones &amp; Driving\\n\\nDrivers should not be able...</td>\n",
       "      <td>0</td>\n",
       "      <td>Phones and driving</td>\n",
       "      <td>persuade_corpus</td>\n",
       "      <td>False</td>\n",
       "    </tr>\n",
       "    <tr>\n",
       "      <th>4</th>\n",
       "      <td>Cell Phone Operation While Driving\\n\\nThe abil...</td>\n",
       "      <td>0</td>\n",
       "      <td>Phones and driving</td>\n",
       "      <td>persuade_corpus</td>\n",
       "      <td>False</td>\n",
       "    </tr>\n",
       "  </tbody>\n",
       "</table>\n",
       "</div>"
      ],
      "text/plain": [
       "                                                text  label  \\\n",
       "0  Phones\\n\\nModern humans today are always on th...      0   \n",
       "1  This essay will explain if drivers should or s...      0   \n",
       "2  Driving while the use of cellular devices\\n\\nT...      0   \n",
       "3  Phones & Driving\\n\\nDrivers should not be able...      0   \n",
       "4  Cell Phone Operation While Driving\\n\\nThe abil...      0   \n",
       "\n",
       "          prompt_name           source  RDizzl3_seven  \n",
       "0  Phones and driving  persuade_corpus          False  \n",
       "1  Phones and driving  persuade_corpus          False  \n",
       "2  Phones and driving  persuade_corpus          False  \n",
       "3  Phones and driving  persuade_corpus          False  \n",
       "4  Phones and driving  persuade_corpus          False  "
      ]
     },
     "execution_count": 4,
     "metadata": {},
     "output_type": "execute_result"
    }
   ],
   "source": [
    "train = train.drop_duplicates(subset=['text'])\n",
    "train.reset_index(drop=True, inplace=True)\n",
    "train.head()"
   ]
  },
  {
   "cell_type": "code",
   "execution_count": 5,
   "id": "9466b1dd",
   "metadata": {
    "execution": {
     "iopub.execute_input": "2024-01-22T12:36:43.532182Z",
     "iopub.status.busy": "2024-01-22T12:36:43.531403Z",
     "iopub.status.idle": "2024-01-22T12:36:43.544920Z",
     "shell.execute_reply": "2024-01-22T12:36:43.544022Z"
    },
    "papermill": {
     "duration": 0.021495,
     "end_time": "2024-01-22T12:36:43.546897",
     "exception": false,
     "start_time": "2024-01-22T12:36:43.525402",
     "status": "completed"
    },
    "tags": []
   },
   "outputs": [],
   "source": [
    "train = train.drop_duplicates(subset=['text'])\n",
    "train.reset_index(drop=True, inplace=True)"
   ]
  },
  {
   "cell_type": "code",
   "execution_count": 7,
   "id": "b899ed76",
   "metadata": {
    "execution": {
     "iopub.execute_input": "2024-01-22T12:36:43.577246Z",
     "iopub.status.busy": "2024-01-22T12:36:43.576934Z",
     "iopub.status.idle": "2024-01-22T12:36:43.580796Z",
     "shell.execute_reply": "2024-01-22T12:36:43.579974Z"
    },
    "papermill": {
     "duration": 0.011824,
     "end_time": "2024-01-22T12:36:43.582678",
     "exception": false,
     "start_time": "2024-01-22T12:36:43.570854",
     "status": "completed"
    },
    "tags": []
   },
   "outputs": [],
   "source": [
    "LOWERCASE = False\n",
    "VOCAB_SIZE = 14_000_000"
   ]
  },
  {
   "cell_type": "code",
   "execution_count": 8,
   "id": "0f91616e",
   "metadata": {
    "execution": {
     "iopub.execute_input": "2024-01-22T12:36:43.593782Z",
     "iopub.status.busy": "2024-01-22T12:36:43.593492Z",
     "iopub.status.idle": "2024-01-22T12:38:51.682706Z",
     "shell.execute_reply": "2024-01-22T12:38:51.681714Z"
    },
    "papermill": {
     "duration": 128.097063,
     "end_time": "2024-01-22T12:38:51.684774",
     "exception": false,
     "start_time": "2024-01-22T12:36:43.587711",
     "status": "completed"
    },
    "tags": []
   },
   "outputs": [
    {
     "name": "stdout",
     "output_type": "stream",
     "text": [
      "\n",
      "\n",
      "\n"
     ]
    },
    {
     "data": {
      "application/vnd.jupyter.widget-view+json": {
       "model_id": "1c95ef10912a434d9d8223db83a83572",
       "version_major": 2,
       "version_minor": 0
      },
      "text/plain": [
       "  0%|          | 0/3 [00:00<?, ?it/s]"
      ]
     },
     "metadata": {},
     "output_type": "display_data"
    },
    {
     "data": {
      "application/vnd.jupyter.widget-view+json": {
       "model_id": "34ead81b0be445d1840b21fee5c9006d",
       "version_major": 2,
       "version_minor": 0
      },
      "text/plain": [
       "  0%|          | 0/44868 [00:00<?, ?it/s]"
      ]
     },
     "metadata": {},
     "output_type": "display_data"
    }
   ],
   "source": [
    "# Creating Byte-Pair Encoding tokenizer\n",
    "raw_tokenizer = Tokenizer(models.BPE(unk_token=\"[UNK]\"))\n",
    "\n",
    "\n",
    "# Adding normalization and pre_tokenizer\n",
    "raw_tokenizer.normalizer = normalizers.Sequence(\n",
    "    [normalizers.NFC()] + [normalizers.Lowercase()] \n",
    "    if LOWERCASE else []\n",
    ")\n",
    "\n",
    "\n",
    "raw_tokenizer.pre_tokenizer = pre_tokenizers.ByteLevel()\n",
    "\n",
    "# Adding special tokens and creating trainer instance\n",
    "special_tokens = [\"[UNK]\", \"[PAD]\", \"[CLS]\", \"[SEP]\", \"[MASK]\"]\n",
    "trainer = trainers.BpeTrainer(\n",
    "    vocab_size=VOCAB_SIZE, \n",
    "    special_tokens=special_tokens\n",
    ")\n",
    "\n",
    "\n",
    "# Creating huggingface dataset object\n",
    "dataset = Dataset.from_pandas(test[['text']])\n",
    "\n",
    "def train_corp_iter():\n",
    "    \"\"\"\n",
    "    A generator function for iterating over a dataset in chunks.\n",
    "    \"\"\"    \n",
    "    for i in range(0, len(dataset), 1000):\n",
    "        yield dataset[i : i + 1000][\"text\"]\n",
    "\n",
    "# Training from iterator REMEMBER it's training on test set...\n",
    "raw_tokenizer.train_from_iterator(train_corp_iter(), trainer=trainer)\n",
    "\n",
    "tokenizer = PreTrainedTokenizerFast(\n",
    "    tokenizer_object=raw_tokenizer,\n",
    "    unk_token  = \"[UNK]\",\n",
    "    pad_token  = \"[PAD]\",\n",
    "    cls_token  = \"[CLS]\",\n",
    "    sep_token  = \"[SEP]\",\n",
    "    mask_token = \"[MASK]\",\n",
    ")\n",
    "\n",
    "\n",
    "\n",
    "# Tokenize test set with new tokenizer\n",
    "tokenized_texts_test = []\n",
    "for text in tqdm(test['text'].tolist()):\n",
    "    tokenized_texts_test.append(tokenizer.tokenize(text))\n",
    "\n",
    "\n",
    "# Tokenize train set\n",
    "tokenized_texts_train = []\n",
    "for text in tqdm(train['text'].tolist()):\n",
    "    tokenized_texts_train.append(tokenizer.tokenize(text))"
   ]
  },
  {
   "cell_type": "code",
   "execution_count": 9,
   "id": "3da00e42",
   "metadata": {
    "execution": {
     "iopub.execute_input": "2024-01-22T12:38:51.697482Z",
     "iopub.status.busy": "2024-01-22T12:38:51.697188Z",
     "iopub.status.idle": "2024-01-22T12:38:51.702540Z",
     "shell.execute_reply": "2024-01-22T12:38:51.701546Z"
    },
    "papermill": {
     "duration": 0.013916,
     "end_time": "2024-01-22T12:38:51.704440",
     "exception": false,
     "start_time": "2024-01-22T12:38:51.690524",
     "status": "completed"
    },
    "tags": []
   },
   "outputs": [
    {
     "name": "stdout",
     "output_type": "stream",
     "text": [
      "['ĠBbb', 'Ġccc', 'Ġddd', '.']\n",
      "\n",
      "['ĠCCC', 'Ġddd', 'Ġeee', '.']\n"
     ]
    }
   ],
   "source": [
    "print(tokenized_texts_test[1])\n",
    "print()\n",
    "print(tokenized_texts_test[2])"
   ]
  },
  {
   "cell_type": "code",
   "execution_count": 10,
   "id": "eeae62c1",
   "metadata": {
    "execution": {
     "iopub.execute_input": "2024-01-22T12:38:51.716843Z",
     "iopub.status.busy": "2024-01-22T12:38:51.716526Z",
     "iopub.status.idle": "2024-01-22T12:43:02.010434Z",
     "shell.execute_reply": "2024-01-22T12:43:02.009475Z"
    },
    "papermill": {
     "duration": 250.308297,
     "end_time": "2024-01-22T12:43:02.018376",
     "exception": false,
     "start_time": "2024-01-22T12:38:51.710079",
     "status": "completed"
    },
    "tags": []
   },
   "outputs": [
    {
     "name": "stdout",
     "output_type": "stream",
     "text": [
      "{'ĠAaa Ġbbb Ġccc': 0, 'Ġbbb Ġccc .': 6, 'ĠAaa Ġbbb Ġccc .': 1, 'ĠBbb Ġccc Ġddd': 2, 'Ġccc Ġddd .': 7, 'ĠBbb Ġccc Ġddd .': 3, 'ĠCCC Ġddd Ġeee': 4, 'Ġddd Ġeee .': 8, 'ĠCCC Ġddd Ġeee .': 5}\n"
     ]
    },
    {
     "data": {
      "text/plain": [
       "53"
      ]
     },
     "execution_count": 10,
     "metadata": {},
     "output_type": "execute_result"
    }
   ],
   "source": [
    "def dummy(text):\n",
    "    \"\"\"\n",
    "    A dummy function to use as tokenizer for TfidfVectorizer. \n",
    "    It returns the text as it is since we already tokenized it.\n",
    "    \"\"\"\n",
    "    return text\n",
    "\n",
    "\n",
    "\n",
    "# Fitting TfidfVectoizer on test set\n",
    "vectorizer = TfidfVectorizer(\n",
    "    ngram_range   = (3, 5), \n",
    "    lowercase     = False, \n",
    "    sublinear_tf  = True, \n",
    "    analyzer      = 'word',\n",
    "    tokenizer     = dummy,\n",
    "    preprocessor  = dummy,\n",
    "    token_pattern = None, \n",
    "    strip_accents ='unicode')\n",
    "\n",
    "\n",
    "vectorizer.fit(tokenized_texts_test)\n",
    "\n",
    "# Getting vocab\n",
    "vocab = vectorizer.vocabulary_\n",
    "print(vocab)\n",
    "\n",
    "\n",
    "# Here we fit our vectorizer on train set but this time we use vocabulary from test fit.\n",
    "vectorizer = TfidfVectorizer(\n",
    "    ngram_range    = (3, 5), \n",
    "    lowercase      = False, \n",
    "    sublinear_tf   = True, \n",
    "    vocabulary     = vocab,\n",
    "    analyzer       = 'word',\n",
    "    tokenizer      = dummy,\n",
    "    preprocessor   = dummy,\n",
    "    token_pattern  = None, \n",
    "    strip_accents  ='unicode')\n",
    "\n",
    "tf_train = vectorizer.fit_transform(tokenized_texts_train)\n",
    "tf_test = vectorizer.transform(tokenized_texts_test)\n",
    "del vectorizer\n",
    "gc.collect()"
   ]
  },
  {
   "cell_type": "code",
   "execution_count": 11,
   "id": "8fdbc512",
   "metadata": {
    "execution": {
     "iopub.execute_input": "2024-01-22T12:43:02.031964Z",
     "iopub.status.busy": "2024-01-22T12:43:02.031608Z",
     "iopub.status.idle": "2024-01-22T12:43:02.036561Z",
     "shell.execute_reply": "2024-01-22T12:43:02.035561Z"
    },
    "papermill": {
     "duration": 0.014356,
     "end_time": "2024-01-22T12:43:02.038716",
     "exception": false,
     "start_time": "2024-01-22T12:43:02.024360",
     "status": "completed"
    },
    "tags": []
   },
   "outputs": [],
   "source": [
    "y_train_label = train['label'].values"
   ]
  },
  {
   "cell_type": "code",
   "execution_count": 13,
   "id": "8b852e50",
   "metadata": {
    "execution": {
     "iopub.execute_input": "2024-01-22T12:43:02.074279Z",
     "iopub.status.busy": "2024-01-22T12:43:02.073945Z",
     "iopub.status.idle": "2024-01-22T12:43:02.079839Z",
     "shell.execute_reply": "2024-01-22T12:43:02.078965Z"
    },
    "papermill": {
     "duration": 0.015334,
     "end_time": "2024-01-22T12:43:02.081827",
     "exception": false,
     "start_time": "2024-01-22T12:43:02.066493",
     "status": "completed"
    },
    "tags": []
   },
   "outputs": [
    {
     "data": {
      "text/plain": [
       "(44868, 9)"
      ]
     },
     "execution_count": 13,
     "metadata": {},
     "output_type": "execute_result"
    }
   ],
   "source": [
    "tf_train.shape"
   ]
  },
  {
   "cell_type": "code",
   "execution_count": 14,
   "id": "7f4e9ffa",
   "metadata": {
    "execution": {
     "iopub.execute_input": "2024-01-22T12:43:02.096395Z",
     "iopub.status.busy": "2024-01-22T12:43:02.095502Z",
     "iopub.status.idle": "2024-01-22T12:43:02.101747Z",
     "shell.execute_reply": "2024-01-22T12:43:02.100779Z"
    },
    "papermill": {
     "duration": 0.01562,
     "end_time": "2024-01-22T12:43:02.103719",
     "exception": false,
     "start_time": "2024-01-22T12:43:02.088099",
     "status": "completed"
    },
    "tags": []
   },
   "outputs": [
    {
     "data": {
      "text/plain": [
       "(3, 9)"
      ]
     },
     "execution_count": 14,
     "metadata": {},
     "output_type": "execute_result"
    }
   ],
   "source": [
    "tf_test.shape"
   ]
  },
  {
   "cell_type": "code",
   "execution_count": 15,
   "id": "ce31900f",
   "metadata": {
    "execution": {
     "iopub.execute_input": "2024-01-22T12:43:02.119354Z",
     "iopub.status.busy": "2024-01-22T12:43:02.118514Z",
     "iopub.status.idle": "2024-01-22T12:43:02.131040Z",
     "shell.execute_reply": "2024-01-22T12:43:02.130212Z"
    },
    "papermill": {
     "duration": 0.022425,
     "end_time": "2024-01-22T12:43:02.133174",
     "exception": false,
     "start_time": "2024-01-22T12:43:02.110749",
     "status": "completed"
    },
    "tags": []
   },
   "outputs": [],
   "source": [
    "if len(test.text.values) <= 5:\n",
    "    sub.to_csv('submission.csv', index=False)\n",
    "else:\n",
    "    clf = MultinomialNB(alpha=0.0225)\n",
    "    \n",
    "    sgd_model = SGDClassifier(\n",
    "        max_iter     = 9000, \n",
    "        tol          = 1e-4, \n",
    "        random_state = 6743,\n",
    "        loss         = \"modified_huber\"\n",
    "    ) \n",
    "    \n",
    "    p={\n",
    "        'verbose'          : -1,\n",
    "        'n_iter'           : 3000,\n",
    "        'colsample_bytree' : 0.7800,\n",
    "        'colsample_bynode' : 0.8000, \n",
    "        'random_state'     : 6743,\n",
    "        'metric'           : 'auc',\n",
    "        'objective'        : 'cross_entropy',\n",
    "        'learning_rate'    : 0.00581909898961407, \n",
    "      }\n",
    "    lgb=LGBMClassifier(**p)\n",
    "    \n",
    "    \n",
    "    cat = CatBoostClassifier(\n",
    "        iterations        = 3000,\n",
    "        verbose           = 0,\n",
    "        subsample         = 0.35,\n",
    "        random_seed       = 6543,\n",
    "        allow_const_label = True,\n",
    "        loss_function     = 'CrossEntropy',\n",
    "        learning_rate     = 0.005599066836106983,\n",
    "    )\n",
    "    \n",
    "    \n",
    "    ensemble = VotingClassifier(\n",
    "        estimators = [('mnb', clf),\n",
    "                      ('sgd', sgd_model),\n",
    "                      ('lgb', lgb), \n",
    "                      ('cat', cat)],\n",
    "        weights    = [0.1, 0.31, 0.28, 0.67], \n",
    "        voting     = 'soft', \n",
    "        n_jobs     = -1\n",
    "    )\n",
    "    \n",
    "    ensemble.fit(tf_train, y_train_label)\n",
    "    gc.collect()\n",
    "    \n",
    "    final_preds = ensemble.predict_proba(tf_test)[:,1]\n",
    "    sub['generated'] = final_preds\n",
    "    sub.to_csv('submission.csv', index=False)\n",
    "    sub.head()"
   ]
  }
 ],
 "metadata": {
  "kaggle": {
   "accelerator": "gpu",
   "dataSources": [
    {
     "databundleVersionId": 7516023,
     "sourceId": 61542,
     "sourceType": "competition"
    },
    {
     "datasetId": 3945154,
     "sourceId": 6865136,
     "sourceType": "datasetVersion"
    },
    {
     "datasetId": 4005256,
     "sourceId": 6977472,
     "sourceType": "datasetVersion"
    }
   ],
   "dockerImageVersionId": 30559,
   "isGpuEnabled": true,
   "isInternetEnabled": false,
   "language": "python",
   "sourceType": "notebook"
  },
  "kernelspec": {
   "display_name": "Python 3 (ipykernel)",
   "language": "python",
   "name": "python3"
  },
  "language_info": {
   "codemirror_mode": {
    "name": "ipython",
    "version": 3
   },
   "file_extension": ".py",
   "mimetype": "text/x-python",
   "name": "python",
   "nbconvert_exporter": "python",
   "pygments_lexer": "ipython3",
   "version": "3.10.9"
  },
  "papermill": {
   "default_parameters": {},
   "duration": 395.124029,
   "end_time": "2024-01-22T12:43:04.961544",
   "environment_variables": {},
   "exception": null,
   "input_path": "__notebook__.ipynb",
   "output_path": "__notebook__.ipynb",
   "parameters": {},
   "start_time": "2024-01-22T12:36:29.837515",
   "version": "2.4.0"
  },
  "widgets": {
   "application/vnd.jupyter.widget-state+json": {
    "state": {
     "0012cf10012842a8a979f0b78edf2acf": {
      "model_module": "@jupyter-widgets/base",
      "model_module_version": "1.2.0",
      "model_name": "LayoutModel",
      "state": {
       "_model_module": "@jupyter-widgets/base",
       "_model_module_version": "1.2.0",
       "_model_name": "LayoutModel",
       "_view_count": null,
       "_view_module": "@jupyter-widgets/base",
       "_view_module_version": "1.2.0",
       "_view_name": "LayoutView",
       "align_content": null,
       "align_items": null,
       "align_self": null,
       "border": null,
       "bottom": null,
       "display": null,
       "flex": null,
       "flex_flow": null,
       "grid_area": null,
       "grid_auto_columns": null,
       "grid_auto_flow": null,
       "grid_auto_rows": null,
       "grid_column": null,
       "grid_gap": null,
       "grid_row": null,
       "grid_template_areas": null,
       "grid_template_columns": null,
       "grid_template_rows": null,
       "height": null,
       "justify_content": null,
       "justify_items": null,
       "left": null,
       "margin": null,
       "max_height": null,
       "max_width": null,
       "min_height": null,
       "min_width": null,
       "object_fit": null,
       "object_position": null,
       "order": null,
       "overflow": null,
       "overflow_x": null,
       "overflow_y": null,
       "padding": null,
       "right": null,
       "top": null,
       "visibility": null,
       "width": null
      }
     },
     "14185a66057c4b52a2c7ff0ba214248f": {
      "model_module": "@jupyter-widgets/controls",
      "model_module_version": "1.5.0",
      "model_name": "ProgressStyleModel",
      "state": {
       "_model_module": "@jupyter-widgets/controls",
       "_model_module_version": "1.5.0",
       "_model_name": "ProgressStyleModel",
       "_view_count": null,
       "_view_module": "@jupyter-widgets/base",
       "_view_module_version": "1.2.0",
       "_view_name": "StyleView",
       "bar_color": null,
       "description_width": ""
      }
     },
     "1c95ef10912a434d9d8223db83a83572": {
      "model_module": "@jupyter-widgets/controls",
      "model_module_version": "1.5.0",
      "model_name": "HBoxModel",
      "state": {
       "_dom_classes": [],
       "_model_module": "@jupyter-widgets/controls",
       "_model_module_version": "1.5.0",
       "_model_name": "HBoxModel",
       "_view_count": null,
       "_view_module": "@jupyter-widgets/controls",
       "_view_module_version": "1.5.0",
       "_view_name": "HBoxView",
       "box_style": "",
       "children": [
        "IPY_MODEL_c519014a16c14323b3bdd18432c9a438",
        "IPY_MODEL_b835317279e943b2b02191268c0c03f0",
        "IPY_MODEL_9c49dbc0151b4a468684138e51c08326"
       ],
       "layout": "IPY_MODEL_89736c9f23de40cca3dc9637c0ce2853"
      }
     },
     "2734629722e44cef857a6f1d1fadd744": {
      "model_module": "@jupyter-widgets/controls",
      "model_module_version": "1.5.0",
      "model_name": "DescriptionStyleModel",
      "state": {
       "_model_module": "@jupyter-widgets/controls",
       "_model_module_version": "1.5.0",
       "_model_name": "DescriptionStyleModel",
       "_view_count": null,
       "_view_module": "@jupyter-widgets/base",
       "_view_module_version": "1.2.0",
       "_view_name": "StyleView",
       "description_width": ""
      }
     },
     "34b15f12ffe14a008245834bd8b078be": {
      "model_module": "@jupyter-widgets/base",
      "model_module_version": "1.2.0",
      "model_name": "LayoutModel",
      "state": {
       "_model_module": "@jupyter-widgets/base",
       "_model_module_version": "1.2.0",
       "_model_name": "LayoutModel",
       "_view_count": null,
       "_view_module": "@jupyter-widgets/base",
       "_view_module_version": "1.2.0",
       "_view_name": "LayoutView",
       "align_content": null,
       "align_items": null,
       "align_self": null,
       "border": null,
       "bottom": null,
       "display": null,
       "flex": null,
       "flex_flow": null,
       "grid_area": null,
       "grid_auto_columns": null,
       "grid_auto_flow": null,
       "grid_auto_rows": null,
       "grid_column": null,
       "grid_gap": null,
       "grid_row": null,
       "grid_template_areas": null,
       "grid_template_columns": null,
       "grid_template_rows": null,
       "height": null,
       "justify_content": null,
       "justify_items": null,
       "left": null,
       "margin": null,
       "max_height": null,
       "max_width": null,
       "min_height": null,
       "min_width": null,
       "object_fit": null,
       "object_position": null,
       "order": null,
       "overflow": null,
       "overflow_x": null,
       "overflow_y": null,
       "padding": null,
       "right": null,
       "top": null,
       "visibility": null,
       "width": null
      }
     },
     "34ead81b0be445d1840b21fee5c9006d": {
      "model_module": "@jupyter-widgets/controls",
      "model_module_version": "1.5.0",
      "model_name": "HBoxModel",
      "state": {
       "_dom_classes": [],
       "_model_module": "@jupyter-widgets/controls",
       "_model_module_version": "1.5.0",
       "_model_name": "HBoxModel",
       "_view_count": null,
       "_view_module": "@jupyter-widgets/controls",
       "_view_module_version": "1.5.0",
       "_view_name": "HBoxView",
       "box_style": "",
       "children": [
        "IPY_MODEL_ededbb903661463cba4d1af02bce2367",
        "IPY_MODEL_fd35b1ac9d9e40469afc0940adbb7713",
        "IPY_MODEL_e402f0c2a39e4140bedf96827442d299"
       ],
       "layout": "IPY_MODEL_69bddb0640b3476ea07412f2b7b4b438"
      }
     },
     "51de19e3c1ef44fd96ee1248a482f97d": {
      "model_module": "@jupyter-widgets/base",
      "model_module_version": "1.2.0",
      "model_name": "LayoutModel",
      "state": {
       "_model_module": "@jupyter-widgets/base",
       "_model_module_version": "1.2.0",
       "_model_name": "LayoutModel",
       "_view_count": null,
       "_view_module": "@jupyter-widgets/base",
       "_view_module_version": "1.2.0",
       "_view_name": "LayoutView",
       "align_content": null,
       "align_items": null,
       "align_self": null,
       "border": null,
       "bottom": null,
       "display": null,
       "flex": null,
       "flex_flow": null,
       "grid_area": null,
       "grid_auto_columns": null,
       "grid_auto_flow": null,
       "grid_auto_rows": null,
       "grid_column": null,
       "grid_gap": null,
       "grid_row": null,
       "grid_template_areas": null,
       "grid_template_columns": null,
       "grid_template_rows": null,
       "height": null,
       "justify_content": null,
       "justify_items": null,
       "left": null,
       "margin": null,
       "max_height": null,
       "max_width": null,
       "min_height": null,
       "min_width": null,
       "object_fit": null,
       "object_position": null,
       "order": null,
       "overflow": null,
       "overflow_x": null,
       "overflow_y": null,
       "padding": null,
       "right": null,
       "top": null,
       "visibility": null,
       "width": null
      }
     },
     "690c86f114d541d5881048dc4831bd55": {
      "model_module": "@jupyter-widgets/base",
      "model_module_version": "1.2.0",
      "model_name": "LayoutModel",
      "state": {
       "_model_module": "@jupyter-widgets/base",
       "_model_module_version": "1.2.0",
       "_model_name": "LayoutModel",
       "_view_count": null,
       "_view_module": "@jupyter-widgets/base",
       "_view_module_version": "1.2.0",
       "_view_name": "LayoutView",
       "align_content": null,
       "align_items": null,
       "align_self": null,
       "border": null,
       "bottom": null,
       "display": null,
       "flex": null,
       "flex_flow": null,
       "grid_area": null,
       "grid_auto_columns": null,
       "grid_auto_flow": null,
       "grid_auto_rows": null,
       "grid_column": null,
       "grid_gap": null,
       "grid_row": null,
       "grid_template_areas": null,
       "grid_template_columns": null,
       "grid_template_rows": null,
       "height": null,
       "justify_content": null,
       "justify_items": null,
       "left": null,
       "margin": null,
       "max_height": null,
       "max_width": null,
       "min_height": null,
       "min_width": null,
       "object_fit": null,
       "object_position": null,
       "order": null,
       "overflow": null,
       "overflow_x": null,
       "overflow_y": null,
       "padding": null,
       "right": null,
       "top": null,
       "visibility": null,
       "width": null
      }
     },
     "69bddb0640b3476ea07412f2b7b4b438": {
      "model_module": "@jupyter-widgets/base",
      "model_module_version": "1.2.0",
      "model_name": "LayoutModel",
      "state": {
       "_model_module": "@jupyter-widgets/base",
       "_model_module_version": "1.2.0",
       "_model_name": "LayoutModel",
       "_view_count": null,
       "_view_module": "@jupyter-widgets/base",
       "_view_module_version": "1.2.0",
       "_view_name": "LayoutView",
       "align_content": null,
       "align_items": null,
       "align_self": null,
       "border": null,
       "bottom": null,
       "display": null,
       "flex": null,
       "flex_flow": null,
       "grid_area": null,
       "grid_auto_columns": null,
       "grid_auto_flow": null,
       "grid_auto_rows": null,
       "grid_column": null,
       "grid_gap": null,
       "grid_row": null,
       "grid_template_areas": null,
       "grid_template_columns": null,
       "grid_template_rows": null,
       "height": null,
       "justify_content": null,
       "justify_items": null,
       "left": null,
       "margin": null,
       "max_height": null,
       "max_width": null,
       "min_height": null,
       "min_width": null,
       "object_fit": null,
       "object_position": null,
       "order": null,
       "overflow": null,
       "overflow_x": null,
       "overflow_y": null,
       "padding": null,
       "right": null,
       "top": null,
       "visibility": null,
       "width": null
      }
     },
     "8405c157bd4f419db7e35c29a808a824": {
      "model_module": "@jupyter-widgets/controls",
      "model_module_version": "1.5.0",
      "model_name": "DescriptionStyleModel",
      "state": {
       "_model_module": "@jupyter-widgets/controls",
       "_model_module_version": "1.5.0",
       "_model_name": "DescriptionStyleModel",
       "_view_count": null,
       "_view_module": "@jupyter-widgets/base",
       "_view_module_version": "1.2.0",
       "_view_name": "StyleView",
       "description_width": ""
      }
     },
     "89736c9f23de40cca3dc9637c0ce2853": {
      "model_module": "@jupyter-widgets/base",
      "model_module_version": "1.2.0",
      "model_name": "LayoutModel",
      "state": {
       "_model_module": "@jupyter-widgets/base",
       "_model_module_version": "1.2.0",
       "_model_name": "LayoutModel",
       "_view_count": null,
       "_view_module": "@jupyter-widgets/base",
       "_view_module_version": "1.2.0",
       "_view_name": "LayoutView",
       "align_content": null,
       "align_items": null,
       "align_self": null,
       "border": null,
       "bottom": null,
       "display": null,
       "flex": null,
       "flex_flow": null,
       "grid_area": null,
       "grid_auto_columns": null,
       "grid_auto_flow": null,
       "grid_auto_rows": null,
       "grid_column": null,
       "grid_gap": null,
       "grid_row": null,
       "grid_template_areas": null,
       "grid_template_columns": null,
       "grid_template_rows": null,
       "height": null,
       "justify_content": null,
       "justify_items": null,
       "left": null,
       "margin": null,
       "max_height": null,
       "max_width": null,
       "min_height": null,
       "min_width": null,
       "object_fit": null,
       "object_position": null,
       "order": null,
       "overflow": null,
       "overflow_x": null,
       "overflow_y": null,
       "padding": null,
       "right": null,
       "top": null,
       "visibility": null,
       "width": null
      }
     },
     "9c49dbc0151b4a468684138e51c08326": {
      "model_module": "@jupyter-widgets/controls",
      "model_module_version": "1.5.0",
      "model_name": "HTMLModel",
      "state": {
       "_dom_classes": [],
       "_model_module": "@jupyter-widgets/controls",
       "_model_module_version": "1.5.0",
       "_model_name": "HTMLModel",
       "_view_count": null,
       "_view_module": "@jupyter-widgets/controls",
       "_view_module_version": "1.5.0",
       "_view_name": "HTMLView",
       "description": "",
       "description_tooltip": null,
       "layout": "IPY_MODEL_34b15f12ffe14a008245834bd8b078be",
       "placeholder": "​",
       "style": "IPY_MODEL_8405c157bd4f419db7e35c29a808a824",
       "value": " 3/3 [00:00&lt;00:00, 231.41it/s]"
      }
     },
     "b835317279e943b2b02191268c0c03f0": {
      "model_module": "@jupyter-widgets/controls",
      "model_module_version": "1.5.0",
      "model_name": "FloatProgressModel",
      "state": {
       "_dom_classes": [],
       "_model_module": "@jupyter-widgets/controls",
       "_model_module_version": "1.5.0",
       "_model_name": "FloatProgressModel",
       "_view_count": null,
       "_view_module": "@jupyter-widgets/controls",
       "_view_module_version": "1.5.0",
       "_view_name": "ProgressView",
       "bar_style": "success",
       "description": "",
       "description_tooltip": null,
       "layout": "IPY_MODEL_690c86f114d541d5881048dc4831bd55",
       "max": 3,
       "min": 0,
       "orientation": "horizontal",
       "style": "IPY_MODEL_c6ec8a00ecf9475d8c55051af6291681",
       "value": 3
      }
     },
     "b93b7e228a94472fbf6f0b4965ca5a61": {
      "model_module": "@jupyter-widgets/controls",
      "model_module_version": "1.5.0",
      "model_name": "DescriptionStyleModel",
      "state": {
       "_model_module": "@jupyter-widgets/controls",
       "_model_module_version": "1.5.0",
       "_model_name": "DescriptionStyleModel",
       "_view_count": null,
       "_view_module": "@jupyter-widgets/base",
       "_view_module_version": "1.2.0",
       "_view_name": "StyleView",
       "description_width": ""
      }
     },
     "c519014a16c14323b3bdd18432c9a438": {
      "model_module": "@jupyter-widgets/controls",
      "model_module_version": "1.5.0",
      "model_name": "HTMLModel",
      "state": {
       "_dom_classes": [],
       "_model_module": "@jupyter-widgets/controls",
       "_model_module_version": "1.5.0",
       "_model_name": "HTMLModel",
       "_view_count": null,
       "_view_module": "@jupyter-widgets/controls",
       "_view_module_version": "1.5.0",
       "_view_name": "HTMLView",
       "description": "",
       "description_tooltip": null,
       "layout": "IPY_MODEL_d17c3586030b4562bd0136c84c311570",
       "placeholder": "​",
       "style": "IPY_MODEL_c6a8ee758a8e451bb31363dd37e37709",
       "value": "100%"
      }
     },
     "c6a8ee758a8e451bb31363dd37e37709": {
      "model_module": "@jupyter-widgets/controls",
      "model_module_version": "1.5.0",
      "model_name": "DescriptionStyleModel",
      "state": {
       "_model_module": "@jupyter-widgets/controls",
       "_model_module_version": "1.5.0",
       "_model_name": "DescriptionStyleModel",
       "_view_count": null,
       "_view_module": "@jupyter-widgets/base",
       "_view_module_version": "1.2.0",
       "_view_name": "StyleView",
       "description_width": ""
      }
     },
     "c6ec8a00ecf9475d8c55051af6291681": {
      "model_module": "@jupyter-widgets/controls",
      "model_module_version": "1.5.0",
      "model_name": "ProgressStyleModel",
      "state": {
       "_model_module": "@jupyter-widgets/controls",
       "_model_module_version": "1.5.0",
       "_model_name": "ProgressStyleModel",
       "_view_count": null,
       "_view_module": "@jupyter-widgets/base",
       "_view_module_version": "1.2.0",
       "_view_name": "StyleView",
       "bar_color": null,
       "description_width": ""
      }
     },
     "cb274aca2afe4073859802a364797c94": {
      "model_module": "@jupyter-widgets/base",
      "model_module_version": "1.2.0",
      "model_name": "LayoutModel",
      "state": {
       "_model_module": "@jupyter-widgets/base",
       "_model_module_version": "1.2.0",
       "_model_name": "LayoutModel",
       "_view_count": null,
       "_view_module": "@jupyter-widgets/base",
       "_view_module_version": "1.2.0",
       "_view_name": "LayoutView",
       "align_content": null,
       "align_items": null,
       "align_self": null,
       "border": null,
       "bottom": null,
       "display": null,
       "flex": null,
       "flex_flow": null,
       "grid_area": null,
       "grid_auto_columns": null,
       "grid_auto_flow": null,
       "grid_auto_rows": null,
       "grid_column": null,
       "grid_gap": null,
       "grid_row": null,
       "grid_template_areas": null,
       "grid_template_columns": null,
       "grid_template_rows": null,
       "height": null,
       "justify_content": null,
       "justify_items": null,
       "left": null,
       "margin": null,
       "max_height": null,
       "max_width": null,
       "min_height": null,
       "min_width": null,
       "object_fit": null,
       "object_position": null,
       "order": null,
       "overflow": null,
       "overflow_x": null,
       "overflow_y": null,
       "padding": null,
       "right": null,
       "top": null,
       "visibility": null,
       "width": null
      }
     },
     "d17c3586030b4562bd0136c84c311570": {
      "model_module": "@jupyter-widgets/base",
      "model_module_version": "1.2.0",
      "model_name": "LayoutModel",
      "state": {
       "_model_module": "@jupyter-widgets/base",
       "_model_module_version": "1.2.0",
       "_model_name": "LayoutModel",
       "_view_count": null,
       "_view_module": "@jupyter-widgets/base",
       "_view_module_version": "1.2.0",
       "_view_name": "LayoutView",
       "align_content": null,
       "align_items": null,
       "align_self": null,
       "border": null,
       "bottom": null,
       "display": null,
       "flex": null,
       "flex_flow": null,
       "grid_area": null,
       "grid_auto_columns": null,
       "grid_auto_flow": null,
       "grid_auto_rows": null,
       "grid_column": null,
       "grid_gap": null,
       "grid_row": null,
       "grid_template_areas": null,
       "grid_template_columns": null,
       "grid_template_rows": null,
       "height": null,
       "justify_content": null,
       "justify_items": null,
       "left": null,
       "margin": null,
       "max_height": null,
       "max_width": null,
       "min_height": null,
       "min_width": null,
       "object_fit": null,
       "object_position": null,
       "order": null,
       "overflow": null,
       "overflow_x": null,
       "overflow_y": null,
       "padding": null,
       "right": null,
       "top": null,
       "visibility": null,
       "width": null
      }
     },
     "e402f0c2a39e4140bedf96827442d299": {
      "model_module": "@jupyter-widgets/controls",
      "model_module_version": "1.5.0",
      "model_name": "HTMLModel",
      "state": {
       "_dom_classes": [],
       "_model_module": "@jupyter-widgets/controls",
       "_model_module_version": "1.5.0",
       "_model_name": "HTMLModel",
       "_view_count": null,
       "_view_module": "@jupyter-widgets/controls",
       "_view_module_version": "1.5.0",
       "_view_name": "HTMLView",
       "description": "",
       "description_tooltip": null,
       "layout": "IPY_MODEL_51de19e3c1ef44fd96ee1248a482f97d",
       "placeholder": "​",
       "style": "IPY_MODEL_2734629722e44cef857a6f1d1fadd744",
       "value": " 44868/44868 [02:08&lt;00:00, 365.45it/s]"
      }
     },
     "ededbb903661463cba4d1af02bce2367": {
      "model_module": "@jupyter-widgets/controls",
      "model_module_version": "1.5.0",
      "model_name": "HTMLModel",
      "state": {
       "_dom_classes": [],
       "_model_module": "@jupyter-widgets/controls",
       "_model_module_version": "1.5.0",
       "_model_name": "HTMLModel",
       "_view_count": null,
       "_view_module": "@jupyter-widgets/controls",
       "_view_module_version": "1.5.0",
       "_view_name": "HTMLView",
       "description": "",
       "description_tooltip": null,
       "layout": "IPY_MODEL_0012cf10012842a8a979f0b78edf2acf",
       "placeholder": "​",
       "style": "IPY_MODEL_b93b7e228a94472fbf6f0b4965ca5a61",
       "value": "100%"
      }
     },
     "fd35b1ac9d9e40469afc0940adbb7713": {
      "model_module": "@jupyter-widgets/controls",
      "model_module_version": "1.5.0",
      "model_name": "FloatProgressModel",
      "state": {
       "_dom_classes": [],
       "_model_module": "@jupyter-widgets/controls",
       "_model_module_version": "1.5.0",
       "_model_name": "FloatProgressModel",
       "_view_count": null,
       "_view_module": "@jupyter-widgets/controls",
       "_view_module_version": "1.5.0",
       "_view_name": "ProgressView",
       "bar_style": "success",
       "description": "",
       "description_tooltip": null,
       "layout": "IPY_MODEL_cb274aca2afe4073859802a364797c94",
       "max": 44868,
       "min": 0,
       "orientation": "horizontal",
       "style": "IPY_MODEL_14185a66057c4b52a2c7ff0ba214248f",
       "value": 44868
      }
     }
    },
    "version_major": 2,
    "version_minor": 0
   }
  }
 },
 "nbformat": 4,
 "nbformat_minor": 5
}
